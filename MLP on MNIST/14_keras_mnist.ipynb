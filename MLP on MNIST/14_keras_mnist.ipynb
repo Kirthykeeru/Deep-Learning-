{
 "cells": [
  {
   "cell_type": "markdown",
   "metadata": {
    "id": "pkUvOYBAcc-8"
   },
   "source": [
    "## 2,3,5 hidden layer architecture on MNIST dataset"
   ]
  },
  {
   "cell_type": "code",
   "execution_count": 1,
   "metadata": {
    "id": "fgQYDk1jbmRj"
   },
   "outputs": [],
   "source": [
    "import tensorflow as tf\n",
    "from tensorflow.keras import utils\n",
    "from tensorflow.keras.datasets import mnist \n",
    "import seaborn as sns\n",
    "from tensorflow.keras.initializers import he_normal"
   ]
  },
  {
   "cell_type": "code",
   "execution_count": 2,
   "metadata": {
    "colab": {
     "base_uri": "https://localhost:8080/"
    },
    "id": "j-bCnRtrceb-",
    "outputId": "654e0c68-634c-4b2e-a047-8c3ca66726b8"
   },
   "outputs": [
    {
     "name": "stdout",
     "output_type": "stream",
     "text": [
      "Downloading data from https://storage.googleapis.com/tensorflow/tf-keras-datasets/mnist.npz\n",
      "11493376/11490434 [==============================] - 1s 0us/step\n"
     ]
    }
   ],
   "source": [
    "# the data, shuffled and split between train and test sets \n",
    "(X_train, y_train), (X_test, y_test) = mnist.load_data()"
   ]
  },
  {
   "cell_type": "code",
   "execution_count": 3,
   "metadata": {
    "colab": {
     "base_uri": "https://localhost:8080/"
    },
    "id": "othUEoHSceZ3",
    "outputId": "2fd0eb42-deb3-43f5-d5fd-c92eb0df92ed"
   },
   "outputs": [
    {
     "name": "stdout",
     "output_type": "stream",
     "text": [
      "Number of X_train points : (60000, 28, 28)\n",
      "Number of y_train points : (60000,)\n",
      "Number of X_test points : (10000, 28, 28)\n",
      "Number of y_test points : (10000,)\n"
     ]
    }
   ],
   "source": [
    "print(\"Number of X_train points :\", X_train.shape)\n",
    "print(\"Number of y_train points :\", y_train.shape)\n",
    "print(\"Number of X_test points :\", X_test.shape)\n",
    "print(\"Number of y_test points :\", y_test.shape)"
   ]
  },
  {
   "cell_type": "code",
   "execution_count": 4,
   "metadata": {
    "id": "n-i4MTo1oA1t"
   },
   "outputs": [],
   "source": [
    "# if you observe the input shape its 2 dimensional vector\n",
    "# for each image we have a (28*28) vector\n",
    "# we will convert the (28*28) vector into single dimensional vector of 1 * 784 \n",
    "\n",
    "X_train = X_train.reshape(X_train.shape[0], X_train.shape[1]*X_train.shape[2]) \n",
    "X_test = X_test.reshape(X_test.shape[0], X_test.shape[1]*X_test.shape[2]) "
   ]
  },
  {
   "cell_type": "code",
   "execution_count": 5,
   "metadata": {
    "colab": {
     "base_uri": "https://localhost:8080/"
    },
    "id": "xBkj3NWRoApN",
    "outputId": "cc554f48-ff9d-4179-a6ad-cb858159841e"
   },
   "outputs": [
    {
     "name": "stdout",
     "output_type": "stream",
     "text": [
      "Number of training examples : 60000 and each image is of shape (784)\n",
      "Number of training examples : 10000 and each image is of shape (784)\n"
     ]
    }
   ],
   "source": [
    "# after converting the input images from 3d to 2d vectors\n",
    "\n",
    "print(\"Number of training examples :\", X_train.shape[0], \"and each image is of shape (%d)\"%(X_train.shape[1]))\n",
    "print(\"Number of training examples :\", X_test.shape[0], \"and each image is of shape (%d)\"%(X_test.shape[1]))"
   ]
  },
  {
   "cell_type": "code",
   "execution_count": 6,
   "metadata": {
    "colab": {
     "base_uri": "https://localhost:8080/"
    },
    "id": "bR09zCFOceYN",
    "outputId": "c077d8f6-4fb4-4d7f-e189-e5ce7eb6b9ce"
   },
   "outputs": [
    {
     "name": "stdout",
     "output_type": "stream",
     "text": [
      "[  0   0   0   0   0   0   0   0   0   0   0   0   0   0   0   0   0   0\n",
      "   0   0   0   0   0   0   0   0   0   0   0   0   0   0   0   0   0   0\n",
      "   0   0   0   0   0   0   0   0   0   0   0   0   0   0   0   0   0   0\n",
      "   0   0   0   0   0   0   0   0   0   0   0   0   0   0   0   0   0   0\n",
      "   0   0   0   0   0   0   0   0   0   0   0   0   0   0   0   0   0   0\n",
      "   0   0   0   0   0   0   0   0   0   0   0   0   0   0   0   0   0   0\n",
      "   0   0   0   0   0   0   0   0   0   0   0   0   0   0   0   0   0   0\n",
      "   0   0   0   0   0   0   0   0   0   0   0   0   0   0   0   0   0   0\n",
      "   0   0   0   0   0   0   0   0   3  18  18  18 126 136 175  26 166 255\n",
      " 247 127   0   0   0   0   0   0   0   0   0   0   0   0  30  36  94 154\n",
      " 170 253 253 253 253 253 225 172 253 242 195  64   0   0   0   0   0   0\n",
      "   0   0   0   0   0  49 238 253 253 253 253 253 253 253 253 251  93  82\n",
      "  82  56  39   0   0   0   0   0   0   0   0   0   0   0   0  18 219 253\n",
      " 253 253 253 253 198 182 247 241   0   0   0   0   0   0   0   0   0   0\n",
      "   0   0   0   0   0   0   0   0  80 156 107 253 253 205  11   0  43 154\n",
      "   0   0   0   0   0   0   0   0   0   0   0   0   0   0   0   0   0   0\n",
      "   0  14   1 154 253  90   0   0   0   0   0   0   0   0   0   0   0   0\n",
      "   0   0   0   0   0   0   0   0   0   0   0   0   0 139 253 190   2   0\n",
      "   0   0   0   0   0   0   0   0   0   0   0   0   0   0   0   0   0   0\n",
      "   0   0   0   0   0  11 190 253  70   0   0   0   0   0   0   0   0   0\n",
      "   0   0   0   0   0   0   0   0   0   0   0   0   0   0   0   0  35 241\n",
      " 225 160 108   1   0   0   0   0   0   0   0   0   0   0   0   0   0   0\n",
      "   0   0   0   0   0   0   0   0   0  81 240 253 253 119  25   0   0   0\n",
      "   0   0   0   0   0   0   0   0   0   0   0   0   0   0   0   0   0   0\n",
      "   0   0  45 186 253 253 150  27   0   0   0   0   0   0   0   0   0   0\n",
      "   0   0   0   0   0   0   0   0   0   0   0   0   0  16  93 252 253 187\n",
      "   0   0   0   0   0   0   0   0   0   0   0   0   0   0   0   0   0   0\n",
      "   0   0   0   0   0   0   0 249 253 249  64   0   0   0   0   0   0   0\n",
      "   0   0   0   0   0   0   0   0   0   0   0   0   0   0  46 130 183 253\n",
      " 253 207   2   0   0   0   0   0   0   0   0   0   0   0   0   0   0   0\n",
      "   0   0   0   0  39 148 229 253 253 253 250 182   0   0   0   0   0   0\n",
      "   0   0   0   0   0   0   0   0   0   0   0   0  24 114 221 253 253 253\n",
      " 253 201  78   0   0   0   0   0   0   0   0   0   0   0   0   0   0   0\n",
      "   0   0  23  66 213 253 253 253 253 198  81   2   0   0   0   0   0   0\n",
      "   0   0   0   0   0   0   0   0   0   0  18 171 219 253 253 253 253 195\n",
      "  80   9   0   0   0   0   0   0   0   0   0   0   0   0   0   0   0   0\n",
      "  55 172 226 253 253 253 253 244 133  11   0   0   0   0   0   0   0   0\n",
      "   0   0   0   0   0   0   0   0   0   0 136 253 253 253 212 135 132  16\n",
      "   0   0   0   0   0   0   0   0   0   0   0   0   0   0   0   0   0   0\n",
      "   0   0   0   0   0   0   0   0   0   0   0   0   0   0   0   0   0   0\n",
      "   0   0   0   0   0   0   0   0   0   0   0   0   0   0   0   0   0   0\n",
      "   0   0   0   0   0   0   0   0   0   0   0   0   0   0   0   0   0   0\n",
      "   0   0   0   0   0   0   0   0   0   0   0   0   0   0   0   0   0   0\n",
      "   0   0   0   0   0   0   0   0   0   0]\n"
     ]
    }
   ],
   "source": [
    "# An example data point\n",
    "print(X_train[0])"
   ]
  },
  {
   "cell_type": "code",
   "execution_count": 7,
   "metadata": {
    "id": "qAoSoNB_ceVc"
   },
   "outputs": [],
   "source": [
    "# if we observe the above matrix each cell is having a value between 0-255\n",
    "# before we move to apply machine learning algorithms lets try to normalize the data\n",
    "# X => (X - Xmin)/(Xmax-Xmin) = X/255\n",
    "\n",
    "X_train = X_train/255\n",
    "X_test = X_test/255"
   ]
  },
  {
   "cell_type": "code",
   "execution_count": 8,
   "metadata": {
    "colab": {
     "base_uri": "https://localhost:8080/"
    },
    "id": "lgVTupZxceTU",
    "outputId": "4292f2ec-1f06-4d9d-9ef1-52b0dc8aeb5f"
   },
   "outputs": [
    {
     "name": "stdout",
     "output_type": "stream",
     "text": [
      "[0.         0.         0.         0.         0.         0.\n",
      " 0.         0.         0.         0.         0.         0.\n",
      " 0.         0.         0.         0.         0.         0.\n",
      " 0.         0.         0.         0.         0.         0.\n",
      " 0.         0.         0.         0.         0.         0.\n",
      " 0.         0.         0.         0.         0.         0.\n",
      " 0.         0.         0.         0.         0.         0.\n",
      " 0.         0.         0.         0.         0.         0.\n",
      " 0.         0.         0.         0.         0.         0.\n",
      " 0.         0.         0.         0.         0.         0.\n",
      " 0.         0.         0.         0.         0.         0.\n",
      " 0.         0.         0.         0.         0.         0.\n",
      " 0.         0.         0.         0.         0.         0.\n",
      " 0.         0.         0.         0.         0.         0.\n",
      " 0.         0.         0.         0.         0.         0.\n",
      " 0.         0.         0.         0.         0.         0.\n",
      " 0.         0.         0.         0.         0.         0.\n",
      " 0.         0.         0.         0.         0.         0.\n",
      " 0.         0.         0.         0.         0.         0.\n",
      " 0.         0.         0.         0.         0.         0.\n",
      " 0.         0.         0.         0.         0.         0.\n",
      " 0.         0.         0.         0.         0.         0.\n",
      " 0.         0.         0.         0.         0.         0.\n",
      " 0.         0.         0.         0.         0.         0.\n",
      " 0.         0.         0.         0.         0.         0.\n",
      " 0.         0.         0.01176471 0.07058824 0.07058824 0.07058824\n",
      " 0.49411765 0.53333333 0.68627451 0.10196078 0.65098039 1.\n",
      " 0.96862745 0.49803922 0.         0.         0.         0.\n",
      " 0.         0.         0.         0.         0.         0.\n",
      " 0.         0.         0.11764706 0.14117647 0.36862745 0.60392157\n",
      " 0.66666667 0.99215686 0.99215686 0.99215686 0.99215686 0.99215686\n",
      " 0.88235294 0.6745098  0.99215686 0.94901961 0.76470588 0.25098039\n",
      " 0.         0.         0.         0.         0.         0.\n",
      " 0.         0.         0.         0.         0.         0.19215686\n",
      " 0.93333333 0.99215686 0.99215686 0.99215686 0.99215686 0.99215686\n",
      " 0.99215686 0.99215686 0.99215686 0.98431373 0.36470588 0.32156863\n",
      " 0.32156863 0.21960784 0.15294118 0.         0.         0.\n",
      " 0.         0.         0.         0.         0.         0.\n",
      " 0.         0.         0.         0.07058824 0.85882353 0.99215686\n",
      " 0.99215686 0.99215686 0.99215686 0.99215686 0.77647059 0.71372549\n",
      " 0.96862745 0.94509804 0.         0.         0.         0.\n",
      " 0.         0.         0.         0.         0.         0.\n",
      " 0.         0.         0.         0.         0.         0.\n",
      " 0.         0.         0.31372549 0.61176471 0.41960784 0.99215686\n",
      " 0.99215686 0.80392157 0.04313725 0.         0.16862745 0.60392157\n",
      " 0.         0.         0.         0.         0.         0.\n",
      " 0.         0.         0.         0.         0.         0.\n",
      " 0.         0.         0.         0.         0.         0.\n",
      " 0.         0.05490196 0.00392157 0.60392157 0.99215686 0.35294118\n",
      " 0.         0.         0.         0.         0.         0.\n",
      " 0.         0.         0.         0.         0.         0.\n",
      " 0.         0.         0.         0.         0.         0.\n",
      " 0.         0.         0.         0.         0.         0.\n",
      " 0.         0.54509804 0.99215686 0.74509804 0.00784314 0.\n",
      " 0.         0.         0.         0.         0.         0.\n",
      " 0.         0.         0.         0.         0.         0.\n",
      " 0.         0.         0.         0.         0.         0.\n",
      " 0.         0.         0.         0.         0.         0.04313725\n",
      " 0.74509804 0.99215686 0.2745098  0.         0.         0.\n",
      " 0.         0.         0.         0.         0.         0.\n",
      " 0.         0.         0.         0.         0.         0.\n",
      " 0.         0.         0.         0.         0.         0.\n",
      " 0.         0.         0.         0.         0.1372549  0.94509804\n",
      " 0.88235294 0.62745098 0.42352941 0.00392157 0.         0.\n",
      " 0.         0.         0.         0.         0.         0.\n",
      " 0.         0.         0.         0.         0.         0.\n",
      " 0.         0.         0.         0.         0.         0.\n",
      " 0.         0.         0.         0.31764706 0.94117647 0.99215686\n",
      " 0.99215686 0.46666667 0.09803922 0.         0.         0.\n",
      " 0.         0.         0.         0.         0.         0.\n",
      " 0.         0.         0.         0.         0.         0.\n",
      " 0.         0.         0.         0.         0.         0.\n",
      " 0.         0.         0.17647059 0.72941176 0.99215686 0.99215686\n",
      " 0.58823529 0.10588235 0.         0.         0.         0.\n",
      " 0.         0.         0.         0.         0.         0.\n",
      " 0.         0.         0.         0.         0.         0.\n",
      " 0.         0.         0.         0.         0.         0.\n",
      " 0.         0.0627451  0.36470588 0.98823529 0.99215686 0.73333333\n",
      " 0.         0.         0.         0.         0.         0.\n",
      " 0.         0.         0.         0.         0.         0.\n",
      " 0.         0.         0.         0.         0.         0.\n",
      " 0.         0.         0.         0.         0.         0.\n",
      " 0.         0.97647059 0.99215686 0.97647059 0.25098039 0.\n",
      " 0.         0.         0.         0.         0.         0.\n",
      " 0.         0.         0.         0.         0.         0.\n",
      " 0.         0.         0.         0.         0.         0.\n",
      " 0.         0.         0.18039216 0.50980392 0.71764706 0.99215686\n",
      " 0.99215686 0.81176471 0.00784314 0.         0.         0.\n",
      " 0.         0.         0.         0.         0.         0.\n",
      " 0.         0.         0.         0.         0.         0.\n",
      " 0.         0.         0.         0.         0.15294118 0.58039216\n",
      " 0.89803922 0.99215686 0.99215686 0.99215686 0.98039216 0.71372549\n",
      " 0.         0.         0.         0.         0.         0.\n",
      " 0.         0.         0.         0.         0.         0.\n",
      " 0.         0.         0.         0.         0.         0.\n",
      " 0.09411765 0.44705882 0.86666667 0.99215686 0.99215686 0.99215686\n",
      " 0.99215686 0.78823529 0.30588235 0.         0.         0.\n",
      " 0.         0.         0.         0.         0.         0.\n",
      " 0.         0.         0.         0.         0.         0.\n",
      " 0.         0.         0.09019608 0.25882353 0.83529412 0.99215686\n",
      " 0.99215686 0.99215686 0.99215686 0.77647059 0.31764706 0.00784314\n",
      " 0.         0.         0.         0.         0.         0.\n",
      " 0.         0.         0.         0.         0.         0.\n",
      " 0.         0.         0.         0.         0.07058824 0.67058824\n",
      " 0.85882353 0.99215686 0.99215686 0.99215686 0.99215686 0.76470588\n",
      " 0.31372549 0.03529412 0.         0.         0.         0.\n",
      " 0.         0.         0.         0.         0.         0.\n",
      " 0.         0.         0.         0.         0.         0.\n",
      " 0.21568627 0.6745098  0.88627451 0.99215686 0.99215686 0.99215686\n",
      " 0.99215686 0.95686275 0.52156863 0.04313725 0.         0.\n",
      " 0.         0.         0.         0.         0.         0.\n",
      " 0.         0.         0.         0.         0.         0.\n",
      " 0.         0.         0.         0.         0.53333333 0.99215686\n",
      " 0.99215686 0.99215686 0.83137255 0.52941176 0.51764706 0.0627451\n",
      " 0.         0.         0.         0.         0.         0.\n",
      " 0.         0.         0.         0.         0.         0.\n",
      " 0.         0.         0.         0.         0.         0.\n",
      " 0.         0.         0.         0.         0.         0.\n",
      " 0.         0.         0.         0.         0.         0.\n",
      " 0.         0.         0.         0.         0.         0.\n",
      " 0.         0.         0.         0.         0.         0.\n",
      " 0.         0.         0.         0.         0.         0.\n",
      " 0.         0.         0.         0.         0.         0.\n",
      " 0.         0.         0.         0.         0.         0.\n",
      " 0.         0.         0.         0.         0.         0.\n",
      " 0.         0.         0.         0.         0.         0.\n",
      " 0.         0.         0.         0.         0.         0.\n",
      " 0.         0.         0.         0.         0.         0.\n",
      " 0.         0.         0.         0.         0.         0.\n",
      " 0.         0.         0.         0.         0.         0.\n",
      " 0.         0.         0.         0.        ]\n"
     ]
    }
   ],
   "source": [
    "# example data point after normlizing\n",
    "print(X_train[0])"
   ]
  },
  {
   "cell_type": "code",
   "execution_count": 9,
   "metadata": {
    "colab": {
     "base_uri": "https://localhost:8080/"
    },
    "id": "PF3ol5zCceRB",
    "outputId": "5411619c-3d37-4250-843b-8972cd103c65"
   },
   "outputs": [
    {
     "name": "stdout",
     "output_type": "stream",
     "text": [
      "Class label of first image : 5\n",
      "After converting the output into a vector :  [0. 0. 0. 0. 0. 1. 0. 0. 0. 0.]\n"
     ]
    }
   ],
   "source": [
    "# here we are having a class number for each image\n",
    "print(\"Class label of first image :\", y_train[0])\n",
    "\n",
    "# lets convert this into a 10 dimensional vector\n",
    "# ex: consider an image is 5 convert it into 5 => [0, 0, 0, 0, 0, 1, 0, 0, 0, 0]\n",
    "# this conversion needed for MLPs \n",
    "\n",
    "Y_train = utils.to_categorical(y_train, 10) \n",
    "Y_test = utils.to_categorical(y_test, 10)\n",
    "\n",
    "print(\"After converting the output into a vector : \",Y_train[0])"
   ]
  },
  {
   "cell_type": "code",
   "execution_count": 10,
   "metadata": {
    "id": "QigF_t8jceO0"
   },
   "outputs": [],
   "source": [
    "# some model parameters\n",
    "from tensorflow.keras.models import Sequential \n",
    "from tensorflow.keras.layers import Dense, Activation \n",
    "\n",
    "output_dim = 10\n",
    "input_dim = X_train.shape[1]\n",
    "\n",
    "batch_size = 128 \n",
    "nb_epoch = 20"
   ]
  },
  {
   "cell_type": "markdown",
   "metadata": {
    "id": "-5J6hh-fFi8g"
   },
   "source": [
    "## Two hidden layer"
   ]
  },
  {
   "cell_type": "markdown",
   "metadata": {
    "id": "GJoiad5fqUFV"
   },
   "source": [
    "### MLP + ReLU + ADAM + BN + w/o Dropout +2Layer"
   ]
  },
  {
   "cell_type": "code",
   "execution_count": 11,
   "metadata": {
    "colab": {
     "base_uri": "https://localhost:8080/"
    },
    "id": "LQtY8p6kqQaO",
    "outputId": "c7c39365-f7d6-48aa-cb9e-824b9c8c7259"
   },
   "outputs": [
    {
     "name": "stdout",
     "output_type": "stream",
     "text": [
      "Model: \"sequential\"\n",
      "_________________________________________________________________\n",
      "Layer (type)                 Output Shape              Param #   \n",
      "=================================================================\n",
      "dense (Dense)                (None, 512)               401920    \n",
      "_________________________________________________________________\n",
      "batch_normalization (BatchNo (None, 512)               2048      \n",
      "_________________________________________________________________\n",
      "dense_1 (Dense)              (None, 128)               65664     \n",
      "_________________________________________________________________\n",
      "batch_normalization_1 (Batch (None, 128)               512       \n",
      "_________________________________________________________________\n",
      "dense_2 (Dense)              (None, 10)                1290      \n",
      "=================================================================\n",
      "Total params: 471,434\n",
      "Trainable params: 470,154\n",
      "Non-trainable params: 1,280\n",
      "_________________________________________________________________\n"
     ]
    }
   ],
   "source": [
    "from tensorflow.keras.layers import BatchNormalization\n",
    "initializer = tf.keras.initializers.RandomNormal(mean=0.0, stddev=0.066, seed=None)\n",
    "\n",
    "model_2lbn = Sequential() #2lbn=2 layer batch normalization\n",
    "\n",
    "model_2lbn.add(Dense(512, activation='relu', input_shape=(input_dim,), kernel_initializer=initializer))\n",
    "model_2lbn.add(BatchNormalization())\n",
    "\n",
    "model_2lbn.add(Dense(128, activation='relu', kernel_initializer=initializer) )\n",
    "model_2lbn.add(BatchNormalization())\n",
    "\n",
    "model_2lbn.add(Dense(output_dim, activation='softmax'))\n",
    "\n",
    "\n",
    "model_2lbn.summary()"
   ]
  },
  {
   "cell_type": "code",
   "execution_count": 12,
   "metadata": {
    "colab": {
     "base_uri": "https://localhost:8080/"
    },
    "id": "2e8CJG7fqQWX",
    "outputId": "5756dbc5-0364-4da3-b7a0-8f3e22c681d9"
   },
   "outputs": [
    {
     "name": "stdout",
     "output_type": "stream",
     "text": [
      "Epoch 1/20\n",
      "469/469 [==============================] - 4s 9ms/step - loss: 0.1957 - accuracy: 0.9419 - val_loss: 0.0991 - val_accuracy: 0.9685\n",
      "Epoch 2/20\n",
      "469/469 [==============================] - 4s 9ms/step - loss: 0.0712 - accuracy: 0.9786 - val_loss: 0.0903 - val_accuracy: 0.9722\n",
      "Epoch 3/20\n",
      "469/469 [==============================] - 4s 9ms/step - loss: 0.0444 - accuracy: 0.9864 - val_loss: 0.0772 - val_accuracy: 0.9761\n",
      "Epoch 4/20\n",
      "469/469 [==============================] - 4s 9ms/step - loss: 0.0308 - accuracy: 0.9905 - val_loss: 0.0805 - val_accuracy: 0.9746\n",
      "Epoch 5/20\n",
      "469/469 [==============================] - 4s 9ms/step - loss: 0.0220 - accuracy: 0.9932 - val_loss: 0.0738 - val_accuracy: 0.9771\n",
      "Epoch 6/20\n",
      "469/469 [==============================] - 4s 9ms/step - loss: 0.0213 - accuracy: 0.9932 - val_loss: 0.0890 - val_accuracy: 0.9739\n",
      "Epoch 7/20\n",
      "469/469 [==============================] - 4s 9ms/step - loss: 0.0201 - accuracy: 0.9932 - val_loss: 0.0699 - val_accuracy: 0.9784\n",
      "Epoch 8/20\n",
      "469/469 [==============================] - 4s 9ms/step - loss: 0.0136 - accuracy: 0.9956 - val_loss: 0.0811 - val_accuracy: 0.9782\n",
      "Epoch 9/20\n",
      "469/469 [==============================] - 4s 9ms/step - loss: 0.0156 - accuracy: 0.9947 - val_loss: 0.0829 - val_accuracy: 0.9762\n",
      "Epoch 10/20\n",
      "469/469 [==============================] - 4s 9ms/step - loss: 0.0140 - accuracy: 0.9952 - val_loss: 0.0763 - val_accuracy: 0.9806\n",
      "Epoch 11/20\n",
      "469/469 [==============================] - 4s 9ms/step - loss: 0.0090 - accuracy: 0.9973 - val_loss: 0.0708 - val_accuracy: 0.9819\n",
      "Epoch 12/20\n",
      "469/469 [==============================] - 4s 9ms/step - loss: 0.0115 - accuracy: 0.9964 - val_loss: 0.0845 - val_accuracy: 0.9789\n",
      "Epoch 13/20\n",
      "469/469 [==============================] - 4s 9ms/step - loss: 0.0123 - accuracy: 0.9961 - val_loss: 0.0874 - val_accuracy: 0.9777\n",
      "Epoch 14/20\n",
      "469/469 [==============================] - 4s 9ms/step - loss: 0.0088 - accuracy: 0.9973 - val_loss: 0.0712 - val_accuracy: 0.9827\n",
      "Epoch 15/20\n",
      "469/469 [==============================] - 4s 9ms/step - loss: 0.0084 - accuracy: 0.9973 - val_loss: 0.0845 - val_accuracy: 0.9794\n",
      "Epoch 16/20\n",
      "469/469 [==============================] - 4s 9ms/step - loss: 0.0065 - accuracy: 0.9977 - val_loss: 0.1199 - val_accuracy: 0.9731\n",
      "Epoch 17/20\n",
      "469/469 [==============================] - 4s 9ms/step - loss: 0.0116 - accuracy: 0.9963 - val_loss: 0.0887 - val_accuracy: 0.9804\n",
      "Epoch 18/20\n",
      "469/469 [==============================] - 4s 9ms/step - loss: 0.0094 - accuracy: 0.9970 - val_loss: 0.0788 - val_accuracy: 0.9818\n",
      "Epoch 19/20\n",
      "469/469 [==============================] - 4s 9ms/step - loss: 0.0064 - accuracy: 0.9978 - val_loss: 0.0786 - val_accuracy: 0.9818\n",
      "Epoch 20/20\n",
      "469/469 [==============================] - 4s 9ms/step - loss: 0.0073 - accuracy: 0.9975 - val_loss: 0.0828 - val_accuracy: 0.9803\n"
     ]
    }
   ],
   "source": [
    "model_2lbn.compile(optimizer='adam', loss='categorical_crossentropy', metrics=['accuracy'])\n",
    "\n",
    "history = model_2lbn.fit(X_train, Y_train, batch_size=batch_size, epochs=nb_epoch, verbose=1, validation_data=(X_test, Y_test))"
   ]
  },
  {
   "cell_type": "code",
   "execution_count": 13,
   "metadata": {
    "id": "1ZtOJpv2ced9"
   },
   "outputs": [],
   "source": [
    "#plotting function\n",
    "%matplotlib notebook  \n",
    "import matplotlib.pyplot as plt\n",
    "%matplotlib inline\n",
    "import numpy as np\n",
    "\n",
    "def plt_dynamic(x, vy, ty, ax, colors=['b']):\n",
    "    ax.plot(x, vy, 'b', label=\"Validation Loss\")\n",
    "    ax.plot(x, ty, 'r', label=\"Train Loss\")\n",
    "    plt.legend()\n",
    "    plt.grid()\n",
    "    fig.canvas.draw()\n",
    "    "
   ]
  },
  {
   "cell_type": "code",
   "execution_count": 14,
   "metadata": {
    "colab": {
     "base_uri": "https://localhost:8080/",
     "height": 329
    },
    "id": "zKxTqGRCqQTP",
    "outputId": "d21875f2-6762-4a35-9241-6f742b7ec82a"
   },
   "outputs": [
    {
     "name": "stdout",
     "output_type": "stream",
     "text": [
      "Test score: 0.08280453830957413\n",
      "Test accuracy: 0.9803000092506409\n"
     ]
    },
    {
     "data": {
      "image/png": "[encoded data removed]",
      "text/plain": [
       "<Figure size 432x288 with 1 Axes>"
      ]
     },
     "metadata": {
      "needs_background": "light",
      "tags": []
     },
     "output_type": "display_data"
    }
   ],
   "source": [
    "score = model_2lbn.evaluate(X_test, Y_test, verbose=0) \n",
    "print('Test score:', score[0]) \n",
    "print('Test accuracy:', score[1])\n",
    "\n",
    "\n",
    "fig,ax = plt.subplots(1,1)\n",
    "ax.set_title('EpochsVS Loss')\n",
    "ax.set_xlabel('epoch') ; ax.set_ylabel('Categorical Crossentropy Loss')\n",
    "\n",
    "# list of epoch numbers\n",
    "x = list(range(1,nb_epoch+1))\n",
    "\n",
    "\n",
    "vy = history.history['val_loss']\n",
    "ty = history.history['loss']\n",
    "plt_dynamic(x, vy, ty, ax)"
   ]
  },
  {
   "cell_type": "markdown",
   "metadata": {
    "id": "9ccmfiVGQKcc"
   },
   "source": [
    "### MLP + ReLU + ADAM + BN + with Dropout + 2Layer "
   ]
  },
  {
   "cell_type": "code",
   "execution_count": 15,
   "metadata": {
    "colab": {
     "base_uri": "https://localhost:8080/"
    },
    "id": "xveh-VmzceHs",
    "outputId": "75325e86-5060-4f3e-c4a3-62cde7084c27"
   },
   "outputs": [
    {
     "name": "stdout",
     "output_type": "stream",
     "text": [
      "Model: \"sequential_1\"\n",
      "_________________________________________________________________\n",
      "Layer (type)                 Output Shape              Param #   \n",
      "=================================================================\n",
      "dense_3 (Dense)              (None, 512)               401920    \n",
      "_________________________________________________________________\n",
      "batch_normalization_2 (Batch (None, 512)               2048      \n",
      "_________________________________________________________________\n",
      "dropout (Dropout)            (None, 512)               0         \n",
      "_________________________________________________________________\n",
      "dense_4 (Dense)              (None, 128)               65664     \n",
      "_________________________________________________________________\n",
      "batch_normalization_3 (Batch (None, 128)               512       \n",
      "_________________________________________________________________\n",
      "dropout_1 (Dropout)          (None, 128)               0         \n",
      "_________________________________________________________________\n",
      "dense_5 (Dense)              (None, 10)                1290      \n",
      "=================================================================\n",
      "Total params: 471,434\n",
      "Trainable params: 470,154\n",
      "Non-trainable params: 1,280\n",
      "_________________________________________________________________\n"
     ]
    }
   ],
   "source": [
    "from tensorflow.keras.layers import Dropout\n",
    "from tensorflow.keras.layers import BatchNormalization\n",
    "initializer = tf.keras.initializers.he_normal(seed=None)\n",
    "\n",
    "model_2lbnd = Sequential() #model_2lbnd=2 layer batch normalization dropout\n",
    "\n",
    "model_2lbnd.add(Dense(512, activation='relu', input_shape=(input_dim,), kernel_initializer=initializer))\n",
    "model_2lbnd.add(BatchNormalization())\n",
    "model_2lbnd.add(Dropout(0.5))\n",
    "\n",
    "model_2lbnd.add(Dense(128, activation='relu', kernel_initializer=initializer) )\n",
    "model_2lbnd.add(BatchNormalization())\n",
    "model_2lbnd.add(Dropout(0.5))\n",
    "\n",
    "model_2lbnd.add(Dense(output_dim, activation='softmax'))\n",
    "\n",
    "\n",
    "model_2lbnd.summary()"
   ]
  },
  {
   "cell_type": "code",
   "execution_count": 16,
   "metadata": {
    "colab": {
     "base_uri": "https://localhost:8080/"
    },
    "id": "HVrT0I4icd_S",
    "outputId": "b398bfe8-fbdb-4fab-d135-303a03103f03"
   },
   "outputs": [
    {
     "name": "stdout",
     "output_type": "stream",
     "text": [
      "Epoch 1/20\n",
      "469/469 [==============================] - 5s 10ms/step - loss: 0.4309 - accuracy: 0.8677 - val_loss: 0.1498 - val_accuracy: 0.9543\n",
      "Epoch 2/20\n",
      "469/469 [==============================] - 5s 10ms/step - loss: 0.2066 - accuracy: 0.9382 - val_loss: 0.1077 - val_accuracy: 0.9664\n",
      "Epoch 3/20\n",
      "469/469 [==============================] - 5s 10ms/step - loss: 0.1592 - accuracy: 0.9523 - val_loss: 0.0920 - val_accuracy: 0.9704\n",
      "Epoch 4/20\n",
      "469/469 [==============================] - 5s 10ms/step - loss: 0.1346 - accuracy: 0.9592 - val_loss: 0.0813 - val_accuracy: 0.9739\n",
      "Epoch 5/20\n",
      "469/469 [==============================] - 5s 10ms/step - loss: 0.1214 - accuracy: 0.9624 - val_loss: 0.0754 - val_accuracy: 0.9764\n",
      "Epoch 6/20\n",
      "469/469 [==============================] - 5s 10ms/step - loss: 0.1101 - accuracy: 0.9665 - val_loss: 0.0685 - val_accuracy: 0.9779\n",
      "Epoch 7/20\n",
      "469/469 [==============================] - 5s 10ms/step - loss: 0.1000 - accuracy: 0.9691 - val_loss: 0.0674 - val_accuracy: 0.9784\n",
      "Epoch 8/20\n",
      "469/469 [==============================] - 5s 10ms/step - loss: 0.0965 - accuracy: 0.9702 - val_loss: 0.0674 - val_accuracy: 0.9780\n",
      "Epoch 9/20\n",
      "469/469 [==============================] - 5s 10ms/step - loss: 0.0853 - accuracy: 0.9739 - val_loss: 0.0641 - val_accuracy: 0.9796\n",
      "Epoch 10/20\n",
      "469/469 [==============================] - 5s 10ms/step - loss: 0.0831 - accuracy: 0.9740 - val_loss: 0.0656 - val_accuracy: 0.9787\n",
      "Epoch 11/20\n",
      "469/469 [==============================] - 5s 10ms/step - loss: 0.0774 - accuracy: 0.9759 - val_loss: 0.0625 - val_accuracy: 0.9812\n",
      "Epoch 12/20\n",
      "469/469 [==============================] - 5s 10ms/step - loss: 0.0754 - accuracy: 0.9763 - val_loss: 0.0613 - val_accuracy: 0.9821\n",
      "Epoch 13/20\n",
      "469/469 [==============================] - 5s 10ms/step - loss: 0.0697 - accuracy: 0.9776 - val_loss: 0.0605 - val_accuracy: 0.9816\n",
      "Epoch 14/20\n",
      "469/469 [==============================] - 5s 10ms/step - loss: 0.0695 - accuracy: 0.9785 - val_loss: 0.0541 - val_accuracy: 0.9839\n",
      "Epoch 15/20\n",
      "469/469 [==============================] - 5s 10ms/step - loss: 0.0665 - accuracy: 0.9792 - val_loss: 0.0593 - val_accuracy: 0.9823\n",
      "Epoch 16/20\n",
      "469/469 [==============================] - 5s 10ms/step - loss: 0.0628 - accuracy: 0.9807 - val_loss: 0.0589 - val_accuracy: 0.9827\n",
      "Epoch 17/20\n",
      "469/469 [==============================] - 5s 10ms/step - loss: 0.0636 - accuracy: 0.9801 - val_loss: 0.0558 - val_accuracy: 0.9835\n",
      "Epoch 18/20\n",
      "469/469 [==============================] - 5s 10ms/step - loss: 0.0578 - accuracy: 0.9810 - val_loss: 0.0596 - val_accuracy: 0.9821\n",
      "Epoch 19/20\n",
      "469/469 [==============================] - 5s 10ms/step - loss: 0.0558 - accuracy: 0.9821 - val_loss: 0.0552 - val_accuracy: 0.9839\n",
      "Epoch 20/20\n",
      "469/469 [==============================] - 5s 10ms/step - loss: 0.0542 - accuracy: 0.9831 - val_loss: 0.0560 - val_accuracy: 0.9841\n"
     ]
    }
   ],
   "source": [
    "model_2lbnd.compile(optimizer='adam', loss='categorical_crossentropy', metrics=['accuracy'])\n",
    "\n",
    "history = model_2lbnd.fit(X_train, Y_train, batch_size=batch_size, epochs=nb_epoch, verbose=1, validation_data=(X_test, Y_test))"
   ]
  },
  {
   "cell_type": "code",
   "execution_count": 17,
   "metadata": {
    "colab": {
     "base_uri": "https://localhost:8080/",
     "height": 329
    },
    "id": "uedkbkOGyBvQ",
    "outputId": "11023499-7bcd-48dd-8367-8c5fbe89fe70",
    "scrolled": false
   },
   "outputs": [
    {
     "name": "stdout",
     "output_type": "stream",
     "text": [
      "Test score: 0.05603070184588432\n",
      "Test accuracy: 0.9840999841690063\n"
     ]
    },
    {
     "data": {
      "image/png": "[encoded data removed]",
      "text/plain": [
       "<Figure size 432x288 with 1 Axes>"
      ]
     },
     "metadata": {
      "needs_background": "light",
      "tags": []
     },
     "output_type": "display_data"
    }
   ],
   "source": [
    "score = model_2lbnd.evaluate(X_test, Y_test, verbose=0) \n",
    "print('Test score:', score[0]) \n",
    "print('Test accuracy:', score[1])\n",
    "\n",
    "\n",
    "fig,ax = plt.subplots(1,1)\n",
    "ax.set_title('EpochsVS Loss')\n",
    "ax.set_xlabel('epoch') ; ax.set_ylabel('Categorical Crossentropy Loss')\n",
    "\n",
    "# list of epoch numbers\n",
    "x = list(range(1,nb_epoch+1))\n",
    "\n",
    "\n",
    "vy = history.history['val_loss']\n",
    "ty = history.history['loss']\n",
    "plt_dynamic(x, vy, ty, ax)"
   ]
  },
  {
   "cell_type": "markdown",
   "metadata": {
    "id": "ZwUbTccFFi8h"
   },
   "source": [
    "## Three hidden layer"
   ]
  },
  {
   "cell_type": "markdown",
   "metadata": {
    "id": "YUdM8QbFDc-8"
   },
   "source": [
    "### MLP + ReLU + ADAM + w/o Dropout + BN + 3Layer"
   ]
  },
  {
   "cell_type": "code",
   "execution_count": null,
   "metadata": {
    "colab": {
     "base_uri": "https://localhost:8080/"
    },
    "id": "bii0cXiCcd6D",
    "outputId": "c060ffa3-9d60-4374-b6af-b5d242faaa98"
   },
   "outputs": [
    {
     "name": "stdout",
     "output_type": "stream",
     "text": [
      "Model: \"sequential_6\"\n",
      "_________________________________________________________________\n",
      "Layer (type)                 Output Shape              Param #   \n",
      "=================================================================\n",
      "dense_14 (Dense)             (None, 512)               401920    \n",
      "_________________________________________________________________\n",
      "batch_normalization_9 (Batch (None, 512)               2048      \n",
      "_________________________________________________________________\n",
      "dense_15 (Dense)             (None, 128)               65664     \n",
      "_________________________________________________________________\n",
      "batch_normalization_10 (Batc (None, 128)               512       \n",
      "_________________________________________________________________\n",
      "dense_16 (Dense)             (None, 100)               12900     \n",
      "_________________________________________________________________\n",
      "batch_normalization_11 (Batc (None, 100)               400       \n",
      "_________________________________________________________________\n",
      "dense_17 (Dense)             (None, 10)                1010      \n",
      "=================================================================\n",
      "Total params: 484,454\n",
      "Trainable params: 482,974\n",
      "Non-trainable params: 1,480\n",
      "_________________________________________________________________\n"
     ]
    }
   ],
   "source": [
    "\n",
    "initializer = tf.keras.initializers.he_normal(seed=None)\n",
    "\n",
    "model_3lbn = Sequential()\n",
    "\n",
    "model_3lbn.add(Dense(512, activation='relu', input_shape=(input_dim,), kernel_initializer=initializer)) #layer 1\n",
    "model_3lbn.add(BatchNormalization())\n",
    "\n",
    "model_3lbn.add(Dense(128, activation='relu', kernel_initializer=initializer) )  #layer 2\n",
    "model_3lbn.add(BatchNormalization())\n",
    "\n",
    "model_3lbn.add(Dense(100, activation='relu', kernel_initializer=initializer) ) #layer 3\n",
    "model_3lbn.add(BatchNormalization())\n",
    "\n",
    "model_3lbn.add(Dense(output_dim, activation='softmax'))\n",
    "\n",
    "\n",
    "model_3lbn.summary()"
   ]
  },
  {
   "cell_type": "code",
   "execution_count": null,
   "metadata": {
    "colab": {
     "base_uri": "https://localhost:8080/"
    },
    "id": "0rWGdWmucd3e",
    "outputId": "418abe29-c811-4790-e3cf-950a43060cfa"
   },
   "outputs": [
    {
     "name": "stdout",
     "output_type": "stream",
     "text": [
      "Epoch 1/20\n",
      "469/469 [==============================] - 6s 13ms/step - loss: 0.2015 - accuracy: 0.9404 - val_loss: 0.1005 - val_accuracy: 0.9681\n",
      "Epoch 2/20\n",
      "469/469 [==============================] - 6s 12ms/step - loss: 0.0771 - accuracy: 0.9771 - val_loss: 0.0931 - val_accuracy: 0.9692\n",
      "Epoch 3/20\n",
      "469/469 [==============================] - 6s 12ms/step - loss: 0.0515 - accuracy: 0.9839 - val_loss: 0.0780 - val_accuracy: 0.9769\n",
      "Epoch 4/20\n",
      "469/469 [==============================] - 5s 12ms/step - loss: 0.0359 - accuracy: 0.9886 - val_loss: 0.0854 - val_accuracy: 0.9735\n",
      "Epoch 5/20\n",
      "469/469 [==============================] - 5s 12ms/step - loss: 0.0292 - accuracy: 0.9908 - val_loss: 0.0879 - val_accuracy: 0.9750\n",
      "Epoch 6/20\n",
      "469/469 [==============================] - 6s 12ms/step - loss: 0.0296 - accuracy: 0.9899 - val_loss: 0.0742 - val_accuracy: 0.9777\n",
      "Epoch 7/20\n",
      "469/469 [==============================] - 6s 12ms/step - loss: 0.0211 - accuracy: 0.9932 - val_loss: 0.0661 - val_accuracy: 0.9820\n",
      "Epoch 8/20\n",
      "469/469 [==============================] - 6s 12ms/step - loss: 0.0184 - accuracy: 0.9937 - val_loss: 0.0827 - val_accuracy: 0.9774\n",
      "Epoch 9/20\n",
      "469/469 [==============================] - 5s 11ms/step - loss: 0.0213 - accuracy: 0.9929 - val_loss: 0.0770 - val_accuracy: 0.9797\n",
      "Epoch 10/20\n",
      "469/469 [==============================] - 5s 12ms/step - loss: 0.0150 - accuracy: 0.9950 - val_loss: 0.0715 - val_accuracy: 0.9821\n",
      "Epoch 11/20\n",
      "469/469 [==============================] - 5s 12ms/step - loss: 0.0137 - accuracy: 0.9956 - val_loss: 0.0874 - val_accuracy: 0.9777\n",
      "Epoch 12/20\n",
      "469/469 [==============================] - 5s 12ms/step - loss: 0.0162 - accuracy: 0.9944 - val_loss: 0.0774 - val_accuracy: 0.9789\n",
      "Epoch 13/20\n",
      "469/469 [==============================] - 5s 12ms/step - loss: 0.0132 - accuracy: 0.9957 - val_loss: 0.0869 - val_accuracy: 0.9798\n",
      "Epoch 14/20\n",
      "469/469 [==============================] - 6s 12ms/step - loss: 0.0112 - accuracy: 0.9960 - val_loss: 0.0729 - val_accuracy: 0.9820\n",
      "Epoch 15/20\n",
      "469/469 [==============================] - 6s 12ms/step - loss: 0.0091 - accuracy: 0.9970 - val_loss: 0.0741 - val_accuracy: 0.9810\n",
      "Epoch 16/20\n",
      "469/469 [==============================] - 6s 12ms/step - loss: 0.0129 - accuracy: 0.9957 - val_loss: 0.0837 - val_accuracy: 0.9802\n",
      "Epoch 17/20\n",
      "469/469 [==============================] - 6s 12ms/step - loss: 0.0111 - accuracy: 0.9963 - val_loss: 0.0817 - val_accuracy: 0.9788\n",
      "Epoch 18/20\n",
      "469/469 [==============================] - 6s 12ms/step - loss: 0.0086 - accuracy: 0.9973 - val_loss: 0.0768 - val_accuracy: 0.9818\n",
      "Epoch 19/20\n",
      "469/469 [==============================] - 6s 12ms/step - loss: 0.0076 - accuracy: 0.9976 - val_loss: 0.0737 - val_accuracy: 0.9811\n",
      "Epoch 20/20\n",
      "469/469 [==============================] - 6s 12ms/step - loss: 0.0093 - accuracy: 0.9970 - val_loss: 0.1056 - val_accuracy: 0.9764\n"
     ]
    }
   ],
   "source": [
    "model_3lbn.compile(optimizer='adam', loss='categorical_crossentropy', metrics=['accuracy'])\n",
    "\n",
    "history = model_3lbn.fit(X_train, Y_train, batch_size=batch_size, epochs=nb_epoch, verbose=1, validation_data=(X_test, Y_test))"
   ]
  },
  {
   "cell_type": "code",
   "execution_count": null,
   "metadata": {
    "colab": {
     "base_uri": "https://localhost:8080/",
     "height": 329
    },
    "id": "-xm63l0szHE6",
    "outputId": "c04e52e4-ea2d-4e1c-cc33-c78cf61131d7"
   },
   "outputs": [
    {
     "name": "stdout",
     "output_type": "stream",
     "text": [
      "Test score: 0.105586476624012\n",
      "Test accuracy: 0.9764000177383423\n"
     ]
    },
    {
     "data": {
      "image/png": "[encoded data removed]",
      "text/plain": [
       "<Figure size 432x288 with 1 Axes>"
      ]
     },
     "metadata": {
      "needs_background": "light",
      "tags": []
     },
     "output_type": "display_data"
    }
   ],
   "source": [
    "score = model_3lbn.evaluate(X_test, Y_test, verbose=0) \n",
    "print('Test score:', score[0]) \n",
    "print('Test accuracy:', score[1])\n",
    "\n",
    "\n",
    "fig,ax = plt.subplots(1,1)\n",
    "ax.set_title('EpochsVS Loss')\n",
    "ax.set_xlabel('epoch') ; ax.set_ylabel('Categorical Crossentropy Loss')\n",
    "\n",
    "# list of epoch numbers\n",
    "x = list(range(1,nb_epoch+1))\n",
    "\n",
    "\n",
    "vy = history.history['val_loss']\n",
    "ty = history.history['loss']\n",
    "plt_dynamic(x, vy, ty, ax)"
   ]
  },
  {
   "cell_type": "markdown",
   "metadata": {
    "id": "FMIHV05GzKaj"
   },
   "source": [
    "### MLP + ReLU + ADAM + with Dropout + BN + 3Layer"
   ]
  },
  {
   "cell_type": "code",
   "execution_count": null,
   "metadata": {
    "colab": {
     "base_uri": "https://localhost:8080/"
    },
    "id": "3id_ZVDbzKVd",
    "outputId": "824209d9-d650-460d-adfb-301da9f94f79"
   },
   "outputs": [
    {
     "name": "stdout",
     "output_type": "stream",
     "text": [
      "Model: \"sequential_7\"\n",
      "_________________________________________________________________\n",
      "Layer (type)                 Output Shape              Param #   \n",
      "=================================================================\n",
      "dense_18 (Dense)             (None, 512)               401920    \n",
      "_________________________________________________________________\n",
      "batch_normalization_12 (Batc (None, 512)               2048      \n",
      "_________________________________________________________________\n",
      "dropout_2 (Dropout)          (None, 512)               0         \n",
      "_________________________________________________________________\n",
      "dense_19 (Dense)             (None, 128)               65664     \n",
      "_________________________________________________________________\n",
      "batch_normalization_13 (Batc (None, 128)               512       \n",
      "_________________________________________________________________\n",
      "dropout_3 (Dropout)          (None, 128)               0         \n",
      "_________________________________________________________________\n",
      "dense_20 (Dense)             (None, 100)               12900     \n",
      "_________________________________________________________________\n",
      "batch_normalization_14 (Batc (None, 100)               400       \n",
      "_________________________________________________________________\n",
      "dropout_4 (Dropout)          (None, 100)               0         \n",
      "_________________________________________________________________\n",
      "dense_21 (Dense)             (None, 10)                1010      \n",
      "=================================================================\n",
      "Total params: 484,454\n",
      "Trainable params: 482,974\n",
      "Non-trainable params: 1,480\n",
      "_________________________________________________________________\n"
     ]
    }
   ],
   "source": [
    "initializer = tf.keras.initializers.he_normal(seed=None)\n",
    "\n",
    "model_3lbnd = Sequential()\n",
    "\n",
    "model_3lbnd.add(Dense(512, activation='relu', input_shape=(input_dim,), kernel_initializer=initializer)) #layer 1\n",
    "model_3lbnd.add(BatchNormalization())\n",
    "model_3lbnd.add(Dropout(0.5))\n",
    "\n",
    "model_3lbnd.add(Dense(128, activation='relu', kernel_initializer=initializer) )  #layer 2\n",
    "model_3lbnd.add(BatchNormalization())\n",
    "model_3lbnd.add(Dropout(0.5))\n",
    "\n",
    "model_3lbnd.add(Dense(100, activation='relu', kernel_initializer=initializer) ) #layer 3\n",
    "model_3lbnd.add(BatchNormalization())\n",
    "model_3lbnd.add(Dropout(0.5))\n",
    "\n",
    "model_3lbnd.add(Dense(output_dim, activation='softmax'))\n",
    "\n",
    "\n",
    "model_3lbnd.summary()"
   ]
  },
  {
   "cell_type": "code",
   "execution_count": null,
   "metadata": {
    "colab": {
     "base_uri": "https://localhost:8080/"
    },
    "id": "lg05LwLFzKPN",
    "outputId": "008195e6-9e7f-42ee-a395-ea47f3d39b2e"
   },
   "outputs": [
    {
     "name": "stdout",
     "output_type": "stream",
     "text": [
      "Epoch 1/20\n",
      "469/469 [==============================] - 6s 14ms/step - loss: 0.6442 - accuracy: 0.8026 - val_loss: 0.1844 - val_accuracy: 0.9415\n",
      "Epoch 2/20\n",
      "469/469 [==============================] - 6s 13ms/step - loss: 0.2782 - accuracy: 0.9201 - val_loss: 0.1235 - val_accuracy: 0.9622\n",
      "Epoch 3/20\n",
      "469/469 [==============================] - 6s 13ms/step - loss: 0.2113 - accuracy: 0.9397 - val_loss: 0.1121 - val_accuracy: 0.9654\n",
      "Epoch 4/20\n",
      "469/469 [==============================] - 6s 13ms/step - loss: 0.1809 - accuracy: 0.9477 - val_loss: 0.0980 - val_accuracy: 0.9702\n",
      "Epoch 5/20\n",
      "469/469 [==============================] - 6s 13ms/step - loss: 0.1580 - accuracy: 0.9547 - val_loss: 0.0909 - val_accuracy: 0.9727\n",
      "Epoch 6/20\n",
      "469/469 [==============================] - 6s 13ms/step - loss: 0.1457 - accuracy: 0.9582 - val_loss: 0.0815 - val_accuracy: 0.9754\n",
      "Epoch 7/20\n",
      "469/469 [==============================] - 6s 13ms/step - loss: 0.1275 - accuracy: 0.9631 - val_loss: 0.0784 - val_accuracy: 0.9764\n",
      "Epoch 8/20\n",
      "469/469 [==============================] - 7s 14ms/step - loss: 0.1243 - accuracy: 0.9639 - val_loss: 0.0700 - val_accuracy: 0.9802\n",
      "Epoch 9/20\n",
      "469/469 [==============================] - 7s 14ms/step - loss: 0.1144 - accuracy: 0.9668 - val_loss: 0.0723 - val_accuracy: 0.9792\n",
      "Epoch 10/20\n",
      "469/469 [==============================] - 7s 16ms/step - loss: 0.1059 - accuracy: 0.9696 - val_loss: 0.0741 - val_accuracy: 0.9789\n",
      "Epoch 11/20\n",
      "469/469 [==============================] - 7s 14ms/step - loss: 0.1014 - accuracy: 0.9706 - val_loss: 0.0696 - val_accuracy: 0.9807\n",
      "Epoch 12/20\n",
      "469/469 [==============================] - 6s 13ms/step - loss: 0.0948 - accuracy: 0.9727 - val_loss: 0.0656 - val_accuracy: 0.9797\n",
      "Epoch 13/20\n",
      "469/469 [==============================] - 6s 14ms/step - loss: 0.0955 - accuracy: 0.9714 - val_loss: 0.0626 - val_accuracy: 0.9830\n",
      "Epoch 14/20\n",
      "469/469 [==============================] - 6s 13ms/step - loss: 0.0882 - accuracy: 0.9746 - val_loss: 0.0645 - val_accuracy: 0.9809\n",
      "Epoch 15/20\n",
      "469/469 [==============================] - 6s 13ms/step - loss: 0.0850 - accuracy: 0.9754 - val_loss: 0.0705 - val_accuracy: 0.9796\n",
      "Epoch 16/20\n",
      "469/469 [==============================] - 6s 14ms/step - loss: 0.0779 - accuracy: 0.9770 - val_loss: 0.0692 - val_accuracy: 0.9805\n",
      "Epoch 17/20\n",
      "469/469 [==============================] - 6s 14ms/step - loss: 0.0776 - accuracy: 0.9762 - val_loss: 0.0647 - val_accuracy: 0.9826\n",
      "Epoch 18/20\n",
      "469/469 [==============================] - 6s 13ms/step - loss: 0.0755 - accuracy: 0.9773 - val_loss: 0.0625 - val_accuracy: 0.9824\n",
      "Epoch 19/20\n",
      "469/469 [==============================] - 6s 13ms/step - loss: 0.0724 - accuracy: 0.9791 - val_loss: 0.0585 - val_accuracy: 0.9833\n",
      "Epoch 20/20\n",
      "469/469 [==============================] - 6s 13ms/step - loss: 0.0678 - accuracy: 0.9804 - val_loss: 0.0672 - val_accuracy: 0.9817\n"
     ]
    }
   ],
   "source": [
    "model_3lbnd.compile(optimizer='adam', loss='categorical_crossentropy', metrics=['accuracy'])\n",
    "\n",
    "history = model_3lbnd.fit(X_train, Y_train, batch_size=batch_size, epochs=nb_epoch, verbose=1, validation_data=(X_test, Y_test))"
   ]
  },
  {
   "cell_type": "code",
   "execution_count": null,
   "metadata": {
    "colab": {
     "base_uri": "https://localhost:8080/",
     "height": 329
    },
    "id": "uS_44729zKHp",
    "outputId": "f98555b4-c8fd-42d4-9cfc-feed40376a37",
    "scrolled": true
   },
   "outputs": [
    {
     "name": "stdout",
     "output_type": "stream",
     "text": [
      "Test score: 0.06718681752681732\n",
      "Test accuracy: 0.9817000031471252\n"
     ]
    },
    {
     "data": {
      "image/png": "[encoded data removed]",
      "text/plain": [
       "<Figure size 432x288 with 1 Axes>"
      ]
     },
     "metadata": {
      "needs_background": "light",
      "tags": []
     },
     "output_type": "display_data"
    }
   ],
   "source": [
    "score = model_3lbnd.evaluate(X_test, Y_test, verbose=0) \n",
    "print('Test score:', score[0]) \n",
    "print('Test accuracy:', score[1])\n",
    "\n",
    "\n",
    "fig,ax = plt.subplots(1,1)\n",
    "ax.set_title('EpochsVS Loss')\n",
    "ax.set_xlabel('epoch') ; ax.set_ylabel('Categorical Crossentropy Loss')\n",
    "\n",
    "# list of epoch numbers\n",
    "x = list(range(1,nb_epoch+1))\n",
    "\n",
    "\n",
    "vy = history.history['val_loss']\n",
    "ty = history.history['loss']\n",
    "plt_dynamic(x, vy, ty, ax)"
   ]
  },
  {
   "cell_type": "markdown",
   "metadata": {
    "id": "ymPnOqmNFi8j"
   },
   "source": [
    "## Five hidden layer"
   ]
  },
  {
   "cell_type": "markdown",
   "metadata": {
    "id": "VIrdbpaeHQQo"
   },
   "source": [
    "### MLP + ReLU + ADAM + w/o Dropout + BN + 5Layer "
   ]
  },
  {
   "cell_type": "code",
   "execution_count": null,
   "metadata": {
    "colab": {
     "base_uri": "https://localhost:8080/"
    },
    "id": "iuSQUl8dE1xv",
    "outputId": "42e26f3a-65f0-4f97-f2e4-d5bbf1c39fac"
   },
   "outputs": [
    {
     "name": "stdout",
     "output_type": "stream",
     "text": [
      "Model: \"sequential_10\"\n",
      "_________________________________________________________________\n",
      "Layer (type)                 Output Shape              Param #   \n",
      "=================================================================\n",
      "dense_34 (Dense)             (None, 612)               480420    \n",
      "_________________________________________________________________\n",
      "batch_normalization_25 (Batc (None, 612)               2448      \n",
      "_________________________________________________________________\n",
      "dense_35 (Dense)             (None, 512)               313856    \n",
      "_________________________________________________________________\n",
      "batch_normalization_26 (Batc (None, 512)               2048      \n",
      "_________________________________________________________________\n",
      "dense_36 (Dense)             (None, 312)               160056    \n",
      "_________________________________________________________________\n",
      "batch_normalization_27 (Batc (None, 312)               1248      \n",
      "_________________________________________________________________\n",
      "dense_37 (Dense)             (None, 212)               66356     \n",
      "_________________________________________________________________\n",
      "batch_normalization_28 (Batc (None, 212)               848       \n",
      "_________________________________________________________________\n",
      "dense_38 (Dense)             (None, 15)                3195      \n",
      "_________________________________________________________________\n",
      "batch_normalization_29 (Batc (None, 15)                60        \n",
      "_________________________________________________________________\n",
      "dense_39 (Dense)             (None, 10)                160       \n",
      "=================================================================\n",
      "Total params: 1,030,695\n",
      "Trainable params: 1,027,369\n",
      "Non-trainable params: 3,326\n",
      "_________________________________________________________________\n"
     ]
    }
   ],
   "source": [
    "initializer = tf.keras.initializers.he_normal(seed=None)\n",
    "\n",
    "model_5lbn = Sequential()\n",
    "\n",
    "model_5lbn.add(Dense(612, activation='relu', input_shape=(input_dim,), kernel_initializer=initializer)) #layer 1\n",
    "model_5lbn.add(BatchNormalization())\n",
    "\n",
    "model_5lbn.add(Dense(512, activation='relu', kernel_initializer=initializer) )  #layer 2\n",
    "model_5lbn.add(BatchNormalization())\n",
    "\n",
    "model_5lbn.add(Dense(312, activation='relu', kernel_initializer=initializer) ) #layer 3\n",
    "model_5lbn.add(BatchNormalization())\n",
    "\n",
    "model_5lbn.add(Dense(212, activation='relu', kernel_initializer=initializer) ) #layer 3\n",
    "model_5lbn.add(BatchNormalization())\n",
    "\n",
    "model_5lbn.add(Dense(15, activation='relu', kernel_initializer=initializer) ) #layer 3\n",
    "model_5lbn.add(BatchNormalization())\n",
    "\n",
    "model_5lbn.add(Dense(output_dim, activation='softmax'))\n",
    "\n",
    "\n",
    "model_5lbn.summary()"
   ]
  },
  {
   "cell_type": "code",
   "execution_count": null,
   "metadata": {
    "colab": {
     "base_uri": "https://localhost:8080/"
    },
    "id": "5OF0Z5H5E1u1",
    "outputId": "6ecbbd13-3664-4211-b846-87f100b106fc"
   },
   "outputs": [
    {
     "name": "stdout",
     "output_type": "stream",
     "text": [
      "Epoch 1/20\n",
      "469/469 [==============================] - 13s 27ms/step - loss: 0.2785 - accuracy: 0.9367 - val_loss: 0.1278 - val_accuracy: 0.9626\n",
      "Epoch 2/20\n",
      "469/469 [==============================] - 12s 26ms/step - loss: 0.0934 - accuracy: 0.9739 - val_loss: 0.0922 - val_accuracy: 0.9724\n",
      "Epoch 3/20\n",
      "469/469 [==============================] - 12s 27ms/step - loss: 0.0626 - accuracy: 0.9814 - val_loss: 0.0797 - val_accuracy: 0.9764\n",
      "Epoch 4/20\n",
      "469/469 [==============================] - 12s 26ms/step - loss: 0.0506 - accuracy: 0.9841 - val_loss: 0.0730 - val_accuracy: 0.9774\n",
      "Epoch 5/20\n",
      "469/469 [==============================] - 12s 26ms/step - loss: 0.0405 - accuracy: 0.9875 - val_loss: 0.0735 - val_accuracy: 0.9786\n",
      "Epoch 6/20\n",
      "469/469 [==============================] - 12s 26ms/step - loss: 0.0332 - accuracy: 0.9893 - val_loss: 0.0881 - val_accuracy: 0.9756\n",
      "Epoch 7/20\n",
      "469/469 [==============================] - 13s 28ms/step - loss: 0.0320 - accuracy: 0.9899 - val_loss: 0.0840 - val_accuracy: 0.9762\n",
      "Epoch 8/20\n",
      "469/469 [==============================] - 12s 26ms/step - loss: 0.0238 - accuracy: 0.9924 - val_loss: 0.0762 - val_accuracy: 0.9794\n",
      "Epoch 9/20\n",
      "469/469 [==============================] - 12s 26ms/step - loss: 0.0249 - accuracy: 0.9918 - val_loss: 0.0792 - val_accuracy: 0.9777\n",
      "Epoch 10/20\n",
      "469/469 [==============================] - 12s 26ms/step - loss: 0.0223 - accuracy: 0.9930 - val_loss: 0.0907 - val_accuracy: 0.9757\n",
      "Epoch 11/20\n",
      "469/469 [==============================] - 12s 26ms/step - loss: 0.0194 - accuracy: 0.9936 - val_loss: 0.0814 - val_accuracy: 0.9783\n",
      "Epoch 12/20\n",
      "469/469 [==============================] - 12s 26ms/step - loss: 0.0202 - accuracy: 0.9937 - val_loss: 0.0815 - val_accuracy: 0.9774\n",
      "Epoch 13/20\n",
      "469/469 [==============================] - 13s 27ms/step - loss: 0.0172 - accuracy: 0.9945 - val_loss: 0.0836 - val_accuracy: 0.9799\n",
      "Epoch 14/20\n",
      "469/469 [==============================] - 14s 29ms/step - loss: 0.0185 - accuracy: 0.9942 - val_loss: 0.0749 - val_accuracy: 0.9812\n",
      "Epoch 15/20\n",
      "469/469 [==============================] - 13s 28ms/step - loss: 0.0138 - accuracy: 0.9954 - val_loss: 0.0682 - val_accuracy: 0.9820\n",
      "Epoch 16/20\n",
      "469/469 [==============================] - 12s 26ms/step - loss: 0.0140 - accuracy: 0.9954 - val_loss: 0.0704 - val_accuracy: 0.9829\n",
      "Epoch 17/20\n",
      "469/469 [==============================] - 13s 27ms/step - loss: 0.0140 - accuracy: 0.9954 - val_loss: 0.0830 - val_accuracy: 0.9796\n",
      "Epoch 18/20\n",
      "469/469 [==============================] - 12s 27ms/step - loss: 0.0135 - accuracy: 0.9956 - val_loss: 0.0816 - val_accuracy: 0.9783\n",
      "Epoch 19/20\n",
      "469/469 [==============================] - 12s 27ms/step - loss: 0.0131 - accuracy: 0.9958 - val_loss: 0.0693 - val_accuracy: 0.9825\n",
      "Epoch 20/20\n",
      "469/469 [==============================] - 13s 28ms/step - loss: 0.0084 - accuracy: 0.9973 - val_loss: 0.0680 - val_accuracy: 0.9823\n"
     ]
    }
   ],
   "source": [
    "model_5lbn.compile(optimizer='adam', loss='categorical_crossentropy', metrics=['accuracy'])\n",
    "\n",
    "history = model_5lbn.fit(X_train, Y_train, batch_size=batch_size, epochs=nb_epoch, verbose=1, validation_data=(X_test, Y_test))"
   ]
  },
  {
   "cell_type": "code",
   "execution_count": null,
   "metadata": {
    "colab": {
     "base_uri": "https://localhost:8080/",
     "height": 329
    },
    "id": "6SCgh8mb2YV7",
    "outputId": "d517030d-2cb7-4da6-a8ba-c4e2b1653355"
   },
   "outputs": [
    {
     "name": "stdout",
     "output_type": "stream",
     "text": [
      "Test score: 0.0679909959435463\n",
      "Test accuracy: 0.9822999835014343\n"
     ]
    },
    {
     "data": {
      "image/png": "[encoded data removed]",
      "text/plain": [
       "<Figure size 432x288 with 1 Axes>"
      ]
     },
     "metadata": {
      "needs_background": "light",
      "tags": []
     },
     "output_type": "display_data"
    }
   ],
   "source": [
    "score = model_5lbn.evaluate(X_test, Y_test, verbose=0) \n",
    "print('Test score:', score[0]) \n",
    "print('Test accuracy:', score[1])\n",
    "\n",
    "\n",
    "fig,ax = plt.subplots(1,1)\n",
    "ax.set_title('EpochsVS Loss')\n",
    "ax.set_xlabel('epoch') ; ax.set_ylabel('Categorical Crossentropy Loss')\n",
    "\n",
    "# list of epoch numbers\n",
    "x = list(range(1,nb_epoch+1))\n",
    "\n",
    "\n",
    "vy = history.history['val_loss']\n",
    "ty = history.history['loss']\n",
    "plt_dynamic(x, vy, ty, ax)"
   ]
  },
  {
   "cell_type": "markdown",
   "metadata": {
    "id": "pFbedcxDE1qd"
   },
   "source": [
    "### MLP + ReLU + ADAM +  BN + with Dropout + 5Layer"
   ]
  },
  {
   "cell_type": "code",
   "execution_count": null,
   "metadata": {
    "colab": {
     "base_uri": "https://localhost:8080/"
    },
    "id": "L6WdMYKFE1nh",
    "outputId": "d3b7e119-6410-4002-ed80-a530f2fa1500"
   },
   "outputs": [
    {
     "name": "stdout",
     "output_type": "stream",
     "text": [
      "Model: \"sequential_9\"\n",
      "_________________________________________________________________\n",
      "Layer (type)                 Output Shape              Param #   \n",
      "=================================================================\n",
      "dense_28 (Dense)             (None, 612)               480420    \n",
      "_________________________________________________________________\n",
      "batch_normalization_20 (Batc (None, 612)               2448      \n",
      "_________________________________________________________________\n",
      "dropout_5 (Dropout)          (None, 612)               0         \n",
      "_________________________________________________________________\n",
      "dense_29 (Dense)             (None, 512)               313856    \n",
      "_________________________________________________________________\n",
      "batch_normalization_21 (Batc (None, 512)               2048      \n",
      "_________________________________________________________________\n",
      "dropout_6 (Dropout)          (None, 512)               0         \n",
      "_________________________________________________________________\n",
      "dense_30 (Dense)             (None, 312)               160056    \n",
      "_________________________________________________________________\n",
      "batch_normalization_22 (Batc (None, 312)               1248      \n",
      "_________________________________________________________________\n",
      "dropout_7 (Dropout)          (None, 312)               0         \n",
      "_________________________________________________________________\n",
      "dense_31 (Dense)             (None, 212)               66356     \n",
      "_________________________________________________________________\n",
      "batch_normalization_23 (Batc (None, 212)               848       \n",
      "_________________________________________________________________\n",
      "dropout_8 (Dropout)          (None, 212)               0         \n",
      "_________________________________________________________________\n",
      "dense_32 (Dense)             (None, 15)                3195      \n",
      "_________________________________________________________________\n",
      "batch_normalization_24 (Batc (None, 15)                60        \n",
      "_________________________________________________________________\n",
      "dropout_9 (Dropout)          (None, 15)                0         \n",
      "_________________________________________________________________\n",
      "dense_33 (Dense)             (None, 10)                160       \n",
      "=================================================================\n",
      "Total params: 1,030,695\n",
      "Trainable params: 1,027,369\n",
      "Non-trainable params: 3,326\n",
      "_________________________________________________________________\n"
     ]
    }
   ],
   "source": [
    "initializer = tf.keras.initializers.he_normal(seed=None)\n",
    "\n",
    "model_5lbnd = Sequential()\n",
    "\n",
    "model_5lbnd.add(Dense(612, activation='relu', input_shape=(input_dim,), kernel_initializer=initializer)) #layer 1\n",
    "model_5lbnd.add(BatchNormalization())\n",
    "model_5lbnd.add(Dropout(0.5))\n",
    "\n",
    "model_5lbnd.add(Dense(512, activation='relu', kernel_initializer=initializer) )  #layer 2\n",
    "model_5lbnd.add(BatchNormalization())\n",
    "model_5lbnd.add(Dropout(0.5))\n",
    "\n",
    "model_5lbnd.add(Dense(312, activation='relu', kernel_initializer=initializer) ) #layer 3\n",
    "model_5lbnd.add(BatchNormalization())\n",
    "model_5lbnd.add(Dropout(0.5))\n",
    "\n",
    "model_5lbnd.add(Dense(212, activation='relu', kernel_initializer=initializer) ) #layer 3\n",
    "model_5lbnd.add(BatchNormalization())\n",
    "model_5lbnd.add(Dropout(0.5))\n",
    "\n",
    "model_5lbnd.add(Dense(15, activation='relu', kernel_initializer=initializer) ) #layer 3\n",
    "model_5lbnd.add(BatchNormalization())\n",
    "model_5lbnd.add(Dropout(0.5))\n",
    "\n",
    "model_5lbnd.add(Dense(output_dim, activation='softmax'))\n",
    "\n",
    "\n",
    "model_5lbnd.summary()"
   ]
  },
  {
   "cell_type": "code",
   "execution_count": null,
   "metadata": {
    "colab": {
     "base_uri": "https://localhost:8080/"
    },
    "id": "laOcCdjzE1le",
    "outputId": "29bc7aae-6938-4ca8-939d-af780f014cca"
   },
   "outputs": [
    {
     "name": "stdout",
     "output_type": "stream",
     "text": [
      "Epoch 1/20\n",
      "469/469 [==============================] - 14s 30ms/step - loss: 1.2392 - accuracy: 0.6089 - val_loss: 0.2686 - val_accuracy: 0.9285\n",
      "Epoch 2/20\n",
      "469/469 [==============================] - 14s 29ms/step - loss: 0.5216 - accuracy: 0.8631 - val_loss: 0.1697 - val_accuracy: 0.9544\n",
      "Epoch 3/20\n",
      "469/469 [==============================] - 14s 29ms/step - loss: 0.3929 - accuracy: 0.8996 - val_loss: 0.1406 - val_accuracy: 0.9638\n",
      "Epoch 4/20\n",
      "469/469 [==============================] - 14s 29ms/step - loss: 0.3270 - accuracy: 0.9171 - val_loss: 0.1339 - val_accuracy: 0.9666\n",
      "Epoch 5/20\n",
      "469/469 [==============================] - 13s 28ms/step - loss: 0.2912 - accuracy: 0.9244 - val_loss: 0.1182 - val_accuracy: 0.9699\n",
      "Epoch 6/20\n",
      "469/469 [==============================] - 13s 29ms/step - loss: 0.2621 - accuracy: 0.9315 - val_loss: 0.1154 - val_accuracy: 0.9740\n",
      "Epoch 7/20\n",
      "469/469 [==============================] - 14s 29ms/step - loss: 0.2509 - accuracy: 0.9339 - val_loss: 0.1091 - val_accuracy: 0.9739\n",
      "Epoch 8/20\n",
      "469/469 [==============================] - 14s 29ms/step - loss: 0.2287 - accuracy: 0.9392 - val_loss: 0.1066 - val_accuracy: 0.9740\n",
      "Epoch 9/20\n",
      "469/469 [==============================] - 13s 29ms/step - loss: 0.2177 - accuracy: 0.9425 - val_loss: 0.0924 - val_accuracy: 0.9779\n",
      "Epoch 10/20\n",
      "469/469 [==============================] - 14s 29ms/step - loss: 0.2143 - accuracy: 0.9446 - val_loss: 0.0957 - val_accuracy: 0.9774\n",
      "Epoch 11/20\n",
      "469/469 [==============================] - 14s 29ms/step - loss: 0.1945 - accuracy: 0.9482 - val_loss: 0.0903 - val_accuracy: 0.9794\n",
      "Epoch 12/20\n",
      "469/469 [==============================] - 14s 29ms/step - loss: 0.1935 - accuracy: 0.9484 - val_loss: 0.0870 - val_accuracy: 0.9794\n",
      "Epoch 13/20\n",
      "469/469 [==============================] - 13s 29ms/step - loss: 0.1842 - accuracy: 0.9506 - val_loss: 0.0900 - val_accuracy: 0.9800\n",
      "Epoch 14/20\n",
      "469/469 [==============================] - 13s 29ms/step - loss: 0.1776 - accuracy: 0.9508 - val_loss: 0.0859 - val_accuracy: 0.9809\n",
      "Epoch 15/20\n",
      "469/469 [==============================] - 14s 29ms/step - loss: 0.1720 - accuracy: 0.9523 - val_loss: 0.0898 - val_accuracy: 0.9802\n",
      "Epoch 16/20\n",
      "469/469 [==============================] - 14s 29ms/step - loss: 0.1612 - accuracy: 0.9557 - val_loss: 0.0814 - val_accuracy: 0.9822\n",
      "Epoch 17/20\n",
      "469/469 [==============================] - 13s 28ms/step - loss: 0.1627 - accuracy: 0.9561 - val_loss: 0.0770 - val_accuracy: 0.9827\n",
      "Epoch 18/20\n",
      "469/469 [==============================] - 13s 28ms/step - loss: 0.1553 - accuracy: 0.9567 - val_loss: 0.0838 - val_accuracy: 0.9825\n",
      "Epoch 19/20\n",
      "469/469 [==============================] - 13s 29ms/step - loss: 0.1518 - accuracy: 0.9589 - val_loss: 0.0771 - val_accuracy: 0.9838\n",
      "Epoch 20/20\n",
      "469/469 [==============================] - 14s 29ms/step - loss: 0.1494 - accuracy: 0.9589 - val_loss: 0.0821 - val_accuracy: 0.9828\n"
     ]
    }
   ],
   "source": [
    "model_5lbnd.compile(optimizer='adam', loss='categorical_crossentropy', metrics=['accuracy'])\n",
    "\n",
    "history = model_5lbnd.fit(X_train, Y_train, batch_size=batch_size, epochs=nb_epoch, verbose=1, validation_data=(X_test, Y_test))"
   ]
  },
  {
   "cell_type": "code",
   "execution_count": null,
   "metadata": {
    "colab": {
     "base_uri": "https://localhost:8080/",
     "height": 329
    },
    "id": "h4i-uM14E1jj",
    "outputId": "fa66abb8-e5f5-4998-f4c0-783c0caefe6a",
    "scrolled": true
   },
   "outputs": [
    {
     "name": "stdout",
     "output_type": "stream",
     "text": [
      "Test score: 0.08210139721632004\n",
      "Test accuracy: 0.9828000068664551\n"
     ]
    },
    {
     "data": {
      "image/png": "[encoded data removed]",
      "text/plain": [
       "<Figure size 432x288 with 1 Axes>"
      ]
     },
     "metadata": {
      "needs_background": "light",
      "tags": []
     },
     "output_type": "display_data"
    }
   ],
   "source": [
    "score = model_5lbnd.evaluate(X_test, Y_test, verbose=0) \n",
    "print('Test score:', score[0]) \n",
    "print('Test accuracy:', score[1])\n",
    "\n",
    "\n",
    "fig,ax = plt.subplots(1,1)\n",
    "ax.set_title('EpochsVS Loss')\n",
    "ax.set_xlabel('epoch') ; ax.set_ylabel('Categorical Crossentropy Loss')\n",
    "\n",
    "# list of epoch numbers\n",
    "x = list(range(1,nb_epoch+1))\n",
    "\n",
    "\n",
    "vy = history.history['val_loss']\n",
    "ty = history.history['loss']\n",
    "plt_dynamic(x, vy, ty, ax)"
   ]
  },
  {
   "cell_type": "markdown",
   "metadata": {
    "id": "r0Xb_SagFi8j"
   },
   "source": [
    "## Conclusion"
   ]
  },
  {
   "cell_type": "code",
   "execution_count": 1,
   "metadata": {
    "colab": {
     "base_uri": "https://localhost:8080/"
    },
    "id": "URn_3k35E1Jc",
    "outputId": "05b0b40e-56f7-4f12-8993-35b59ebb1416"
   },
   "outputs": [
    {
     "name": "stdout",
     "output_type": "stream",
     "text": [
      "+--------------+---------+------------+\n",
      "| No. of layer | Dropout | Accuracy % |\n",
      "+--------------+---------+------------+\n",
      "|      2       |    NO   |   98.03    |\n",
      "|      2       |   YES   |   98.40    |\n",
      "|      3       |    NO   |   97.76    |\n",
      "|      3       |   YES   |   98.17    |\n",
      "|      5       |    NO   |   98.22    |\n",
      "|      5       |   YES   |   98.28    |\n",
      "+--------------+---------+------------+\n"
     ]
    }
   ],
   "source": [
    "from prettytable import PrettyTable    \n",
    "x = PrettyTable()\n",
    "x.field_names = [\"No. of layer\",\"Dropout\", \"Accuracy %\"]\n",
    "\n",
    "x.add_row([\"2\",\"NO\",\"98.03\"])\n",
    "x.add_row([\"2\",\"YES\",\"98.40\"])\n",
    "x.add_row([\"3\",\"NO\",\"97.76\"])\n",
    "x.add_row([\"3\",\"YES\",\"98.17\"])\n",
    "x.add_row([\"5\",\"NO\",\"98.22\"])\n",
    "x.add_row([\"5\",\"YES\",\"98.28\"])\n",
    "\n",
    "\n",
    "print(x)"
   ]
  },
  {
   "cell_type": "markdown",
   "metadata": {
    "id": "f82eLNMVE1Cb"
   },
   "source": [
    "1. Observed that using dropouts there is slight increasein the accuracy \n",
    "2. 5 hidden layer model has given 98% accuracy and no much increment with/without dropout as dataset is small"
   ]
  }
 ],
 "metadata": {
  "colab": {
   "collapsed_sections": [],
   "name": "14_keras_mnist.ipynb",
   "provenance": []
  },
  "kernelspec": {
   "display_name": "Python 3",
   "language": "python",
   "name": "python3"
  },
  "language_info": {
   "codemirror_mode": {
    "name": "ipython",
    "version": 3
   },
   "file_extension": ".py",
   "mimetype": "text/x-python",
   "name": "python",
   "nbconvert_exporter": "python",
   "pygments_lexer": "ipython3",
   "version": "3.6.5"
  },
  "latex_envs": {
   "LaTeX_envs_menu_present": true,
   "autoclose": false,
   "autocomplete": true,
   "bibliofile": "biblio.bib",
   "cite_by": "apalike",
   "current_citInitial": 1,
   "eqLabelWithNumbers": true,
   "eqNumInitial": 1,
   "hotkeys": {
    "equation": "Ctrl-E",
    "itemize": "Ctrl-I"
   },
   "labels_anchors": false,
   "latex_user_defs": false,
   "report_style_numbering": false,
   "user_envs_cfg": false
  },
  "toc": {
   "base_numbering": 1,
   "nav_menu": {},
   "number_sections": true,
   "sideBar": true,
   "skip_h1_title": false,
   "title_cell": "Table of Contents",
   "title_sidebar": "Contents",
   "toc_cell": false,
   "toc_position": {
    "height": "calc(100% - 180px)",
    "left": "10px",
    "top": "150px",
    "width": "270px"
   },
   "toc_section_display": true,
   "toc_window_display": false
  }
 },
 "nbformat": 4,
 "nbformat_minor": 1
}
