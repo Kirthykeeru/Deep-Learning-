{
 "cells": [
  {
   "cell_type": "markdown",
   "metadata": {
    "id": "CVrAmUde_bO2"
   },
   "source": [
    "# 3,5,7 Layers CNN on MNIST dataset"
   ]
  },
  {
   "cell_type": "code",
   "execution_count": 1,
   "metadata": {
    "colab": {
     "base_uri": "https://localhost:8080/"
    },
    "id": "jvjzyPx5suEp",
    "outputId": "ac0ed5b4-2575-4027-89fc-98605564d951"
   },
   "outputs": [
    {
     "name": "stdout",
     "output_type": "stream",
     "text": [
      "Number of X_train points : (60000, 28, 28)\n",
      "Number of y_train points : (60000,)\n",
      "Number of X_test points : (10000, 28, 28)\n",
      "Number of y_test points : (10000,)\n"
     ]
    }
   ],
   "source": [
    "from __future__ import print_function\n",
    "import keras\n",
    "from keras.datasets import mnist\n",
    "from keras.models import Sequential\n",
    "from keras.layers import Dense, Dropout, Flatten,Activation\n",
    "from keras.layers import Conv2D, MaxPooling2D\n",
    "from keras import backend as K\n",
    "\n",
    "# the data, split between train and test sets\n",
    "(X_train, y_train), (X_test, y_test) = mnist.load_data()\n",
    "\n",
    "print(\"Number of X_train points :\", X_train.shape)\n",
    "print(\"Number of y_train points :\", y_train.shape)\n",
    "print(\"Number of X_test points :\", X_test.shape)\n",
    "print(\"Number of y_test points :\", y_test.shape)"
   ]
  },
  {
   "cell_type": "code",
   "execution_count": 3,
   "metadata": {
    "colab": {
     "base_uri": "https://localhost:8080/"
    },
    "id": "uQaXr6oIsuAn",
    "outputId": "a5e60604-3604-4da7-f265-652c076e618b"
   },
   "outputs": [
    {
     "name": "stdout",
     "output_type": "stream",
     "text": [
      "X_train shape: (60000, 28, 28, 1)\n",
      "60000 train samples\n",
      "10000 test samples\n"
     ]
    }
   ],
   "source": [
    "#Initialization\n",
    "batch_size = 128\n",
    "num_classes = 10\n",
    "epochs = 15\n",
    "\n",
    "# input image dimensions\n",
    "img_rows, img_cols = 28, 28\n",
    "\n",
    "if K.image_data_format() == 'channels_first':\n",
    "    X_train = X_train.reshape(X_train.shape[0], 1, img_rows, img_cols) \n",
    "    x_test = x_test.reshape(x_test.shape[0], 1, img_rows, img_cols)\n",
    "    input_shape = (1, img_rows, img_cols)\n",
    "else:\n",
    "    X_train = X_train.reshape(X_train.shape[0], img_rows, img_cols, 1) # 1 here is every row in matrix is converted to column \n",
    "    X_test = X_test.reshape(X_test.shape[0], img_rows, img_cols, 1)\n",
    "    input_shape = (img_rows, img_cols, 1)\n",
    "\n",
    "X_train = X_train.astype('float32')\n",
    "X_test = X_test.astype('float32')\n",
    "X_train /= 255\n",
    "X_test /= 255\n",
    "print('X_train shape:', X_train.shape)\n",
    "print(X_train.shape[0], 'train samples')\n",
    "print(X_test.shape[0], 'test samples')\n",
    "\n"
   ]
  },
  {
   "cell_type": "code",
   "execution_count": 4,
   "metadata": {
    "colab": {
     "base_uri": "https://localhost:8080/"
    },
    "id": "jnlFtR9kzUb_",
    "outputId": "3836cbcd-c9f0-41fe-bf13-da90319195f8"
   },
   "outputs": [
    {
     "name": "stdout",
     "output_type": "stream",
     "text": [
      "Class label of first image : 5\n",
      "After converting the output into a vector :  [0. 0. 0. 0. 0. 1. 0. 0. 0. 0.]\n"
     ]
    }
   ],
   "source": [
    "# here we are having a class number for each image\n",
    "print(\"Class label of first image :\", y_train[0])\n",
    "\n",
    "# lets convert this into a 10 dimensional vector\n",
    "# ex: consider an image is 5 convert it into 5 => [0, 0, 0, 0, 0, 1, 0, 0, 0, 0]\n",
    "# this conversion needed for MLPs \n",
    "\n",
    "Y_train = keras.utils.to_categorical(y_train, 10) \n",
    "Y_test = keras.utils.to_categorical(y_test, 10)\n",
    "\n",
    "print(\"After converting the output into a vector : \",Y_train[0])"
   ]
  },
  {
   "cell_type": "markdown",
   "metadata": {
    "id": "Ous9daglvUpo"
   },
   "source": [
    "## 3 layer CNN"
   ]
  },
  {
   "cell_type": "code",
   "execution_count": 5,
   "metadata": {
    "colab": {
     "base_uri": "https://localhost:8080/"
    },
    "id": "1niZcAHPst74",
    "outputId": "02f2bcef-fb07-44e0-acc5-0555d300f2b9"
   },
   "outputs": [
    {
     "name": "stdout",
     "output_type": "stream",
     "text": [
      "Model: \"sequential\"\n",
      "_________________________________________________________________\n",
      "Layer (type)                 Output Shape              Param #   \n",
      "=================================================================\n",
      "conv2d (Conv2D)              (None, 26, 26, 32)        320       \n",
      "_________________________________________________________________\n",
      "max_pooling2d (MaxPooling2D) (None, 13, 13, 32)        0         \n",
      "_________________________________________________________________\n",
      "conv2d_1 (Conv2D)            (None, 11, 11, 64)        18496     \n",
      "_________________________________________________________________\n",
      "max_pooling2d_1 (MaxPooling2 (None, 5, 5, 64)          0         \n",
      "_________________________________________________________________\n",
      "conv2d_2 (Conv2D)            (None, 3, 3, 64)          36928     \n",
      "_________________________________________________________________\n",
      "batch_normalization (BatchNo (None, 3, 3, 64)          12        \n",
      "_________________________________________________________________\n",
      "max_pooling2d_2 (MaxPooling2 (None, 1, 1, 64)          0         \n",
      "_________________________________________________________________\n",
      "flatten (Flatten)            (None, 64)                0         \n",
      "_________________________________________________________________\n",
      "dense (Dense)                (None, 128)               8320      \n",
      "_________________________________________________________________\n",
      "dropout (Dropout)            (None, 128)               0         \n",
      "_________________________________________________________________\n",
      "dense_1 (Dense)              (None, 10)                1290      \n",
      "=================================================================\n",
      "Total params: 65,366\n",
      "Trainable params: 65,360\n",
      "Non-trainable params: 6\n",
      "_________________________________________________________________\n"
     ]
    }
   ],
   "source": [
    "from keras.layers.normalization import BatchNormalization\n",
    "#Activation=ReLU\n",
    "#Optimizer=Adam\n",
    "#Architecture= conv2d,maxpool,conv2d,maxpool,conv2d,bn,maxpool,fc,dropout,sm\n",
    "\n",
    "model_3l = Sequential()\n",
    "# first layer\n",
    "model_3l.add(Conv2D(32, kernel_size=(3, 3),activation='relu',input_shape=input_shape))\n",
    "model_3l.add(MaxPooling2D(pool_size=(2, 2))) \n",
    "# second layer\n",
    "model_3l.add(Conv2D(64, kernel_size=(3, 3), activation='relu'))\n",
    "model_3l.add(MaxPooling2D(pool_size=(2, 2))) \n",
    "# third layer\n",
    "model_3l.add(Conv2D(64, kernel_size=(3, 3), activation='relu'))\n",
    "model_3l.add(BatchNormalization(axis=1))\n",
    "model_3l.add(MaxPooling2D(pool_size=(2, 2))) \n",
    "# flattening,dropout\n",
    "model_3l.add(Flatten())\n",
    "model_3l.add(Dense(128, activation='relu'))\n",
    "model_3l.add(Dropout(0.5))\n",
    "# softmax\n",
    "model_3l.add(Dense(num_classes, activation='softmax'))\n",
    "model_3l.summary()"
   ]
  },
  {
   "cell_type": "code",
   "execution_count": 6,
   "metadata": {
    "colab": {
     "base_uri": "https://localhost:8080/"
    },
    "id": "n_6ikQbdst48",
    "outputId": "d10523fb-e059-44d7-d8fb-ea08f0a10e47"
   },
   "outputs": [
    {
     "name": "stdout",
     "output_type": "stream",
     "text": [
      "Epoch 1/15\n",
      "469/469 [==============================] - 3s 6ms/step - loss: 0.3624 - accuracy: 0.8861 - val_loss: 0.1073 - val_accuracy: 0.9778\n",
      "Epoch 2/15\n",
      "469/469 [==============================] - 2s 5ms/step - loss: 0.0907 - accuracy: 0.9735 - val_loss: 0.0565 - val_accuracy: 0.9845\n",
      "Epoch 3/15\n",
      "469/469 [==============================] - 2s 5ms/step - loss: 0.0657 - accuracy: 0.9811 - val_loss: 0.0579 - val_accuracy: 0.9834\n",
      "Epoch 4/15\n",
      "469/469 [==============================] - 2s 5ms/step - loss: 0.0529 - accuracy: 0.9848 - val_loss: 0.0582 - val_accuracy: 0.9831\n",
      "Epoch 5/15\n",
      "469/469 [==============================] - 2s 5ms/step - loss: 0.0452 - accuracy: 0.9861 - val_loss: 0.0470 - val_accuracy: 0.9866\n",
      "Epoch 6/15\n",
      "469/469 [==============================] - 2s 5ms/step - loss: 0.0367 - accuracy: 0.9892 - val_loss: 0.0462 - val_accuracy: 0.9880\n",
      "Epoch 7/15\n",
      "469/469 [==============================] - 2s 5ms/step - loss: 0.0339 - accuracy: 0.9896 - val_loss: 0.0438 - val_accuracy: 0.9883\n",
      "Epoch 8/15\n",
      "469/469 [==============================] - 2s 5ms/step - loss: 0.0283 - accuracy: 0.9916 - val_loss: 0.0547 - val_accuracy: 0.9859\n",
      "Epoch 9/15\n",
      "469/469 [==============================] - 2s 5ms/step - loss: 0.0255 - accuracy: 0.9918 - val_loss: 0.0543 - val_accuracy: 0.9867\n",
      "Epoch 10/15\n",
      "469/469 [==============================] - 2s 5ms/step - loss: 0.0225 - accuracy: 0.9930 - val_loss: 0.0491 - val_accuracy: 0.9880\n",
      "Epoch 11/15\n",
      "469/469 [==============================] - 2s 5ms/step - loss: 0.0224 - accuracy: 0.9931 - val_loss: 0.0451 - val_accuracy: 0.9893\n",
      "Epoch 12/15\n",
      "469/469 [==============================] - 2s 5ms/step - loss: 0.0174 - accuracy: 0.9944 - val_loss: 0.0601 - val_accuracy: 0.9863\n",
      "Epoch 13/15\n",
      "469/469 [==============================] - 2s 5ms/step - loss: 0.0164 - accuracy: 0.9949 - val_loss: 0.0575 - val_accuracy: 0.9871\n",
      "Epoch 14/15\n",
      "469/469 [==============================] - 2s 5ms/step - loss: 0.0160 - accuracy: 0.9949 - val_loss: 0.0696 - val_accuracy: 0.9849\n",
      "Epoch 15/15\n",
      "469/469 [==============================] - 2s 5ms/step - loss: 0.0142 - accuracy: 0.9954 - val_loss: 0.0479 - val_accuracy: 0.9900\n"
     ]
    }
   ],
   "source": [
    "model_3l.compile(loss=keras.losses.categorical_crossentropy,optimizer=keras.optimizers.Adam(),metrics=['accuracy'])\n",
    "history=model_3l.fit(X_train, Y_train,batch_size=batch_size,epochs=epochs,verbose=1,validation_data=(X_test, Y_test))"
   ]
  },
  {
   "cell_type": "code",
   "execution_count": 7,
   "metadata": {
    "id": "i0dZwuOk2_z2"
   },
   "outputs": [],
   "source": [
    "#plotting function\n",
    "%matplotlib notebook  \n",
    "import matplotlib.pyplot as plt\n",
    "%matplotlib inline\n",
    "import numpy as np\n",
    "\n",
    "def plt_dynamic(x, vy, ty, ax, colors=['b']):\n",
    "    ax.plot(x, vy, 'b', label=\"Validation Loss\")\n",
    "    ax.plot(x, ty, 'r', label=\"Train Loss\")\n",
    "    plt.legend()\n",
    "    plt.grid()\n",
    "    fig.canvas.draw()"
   ]
  },
  {
   "cell_type": "code",
   "execution_count": 8,
   "metadata": {
    "colab": {
     "base_uri": "https://localhost:8080/",
     "height": 329
    },
    "id": "iK-fxmyast1v",
    "outputId": "0a82d3f2-8c99-48f6-8e74-b06c82f64f65"
   },
   "outputs": [
    {
     "name": "stdout",
     "output_type": "stream",
     "text": [
      "Test score: 0.047884970903396606\n",
      "Test accuracy: 0.9900000095367432\n"
     ]
    },
    {
     "data": {
      "image/png": "[encoded data removed]",
      "text/plain": [
       "<Figure size 432x288 with 1 Axes>"
      ]
     },
     "metadata": {
      "needs_background": "light",
      "tags": []
     },
     "output_type": "display_data"
    }
   ],
   "source": [
    "score = model_3l.evaluate(X_test, Y_test, verbose=0) \n",
    "print('Test score:', score[0]) \n",
    "print('Test accuracy:', score[1])\n",
    "\n",
    "\n",
    "fig,ax = plt.subplots(1,1)\n",
    "ax.set_title('EpochsVS Loss')\n",
    "ax.set_xlabel('epoch') ; ax.set_ylabel('Categorical Crossentropy Loss')\n",
    "\n",
    "# list of epoch numbers\n",
    "x = list(range(1,epochs+1))\n",
    "\n",
    "\n",
    "vy = history.history['val_loss']\n",
    "ty = history.history['loss']\n",
    "plt_dynamic(x, vy, ty, ax)"
   ]
  },
  {
   "cell_type": "markdown",
   "metadata": {
    "id": "7LK4QcPlAVtq"
   },
   "source": [
    "## 5 layer CNN"
   ]
  },
  {
   "cell_type": "code",
   "execution_count": 9,
   "metadata": {
    "colab": {
     "base_uri": "https://localhost:8080/"
    },
    "id": "TxJ2AMdUAVre",
    "outputId": "6a7b400c-5e0b-400d-fff4-1e372edf6f7c"
   },
   "outputs": [
    {
     "name": "stdout",
     "output_type": "stream",
     "text": [
      "Model: \"sequential_1\"\n",
      "_________________________________________________________________\n",
      "Layer (type)                 Output Shape              Param #   \n",
      "=================================================================\n",
      "conv2d_3 (Conv2D)            (None, 27, 27, 64)        320       \n",
      "_________________________________________________________________\n",
      "max_pooling2d_3 (MaxPooling2 (None, 27, 27, 64)        0         \n",
      "_________________________________________________________________\n",
      "conv2d_4 (Conv2D)            (None, 26, 26, 64)        16448     \n",
      "_________________________________________________________________\n",
      "dropout_1 (Dropout)          (None, 26, 26, 64)        0         \n",
      "_________________________________________________________________\n",
      "max_pooling2d_4 (MaxPooling2 (None, 13, 13, 64)        0         \n",
      "_________________________________________________________________\n",
      "conv2d_5 (Conv2D)            (None, 11, 11, 32)        18464     \n",
      "_________________________________________________________________\n",
      "batch_normalization_1 (Batch (None, 11, 11, 32)        44        \n",
      "_________________________________________________________________\n",
      "max_pooling2d_5 (MaxPooling2 (None, 11, 11, 32)        0         \n",
      "_________________________________________________________________\n",
      "conv2d_6 (Conv2D)            (None, 10, 10, 32)        4128      \n",
      "_________________________________________________________________\n",
      "batch_normalization_2 (Batch (None, 10, 10, 32)        40        \n",
      "_________________________________________________________________\n",
      "max_pooling2d_6 (MaxPooling2 (None, 5, 5, 32)          0         \n",
      "_________________________________________________________________\n",
      "conv2d_7 (Conv2D)            (None, 4, 4, 16)          2064      \n",
      "_________________________________________________________________\n",
      "max_pooling2d_7 (MaxPooling2 (None, 2, 2, 16)          0         \n",
      "_________________________________________________________________\n",
      "flatten_1 (Flatten)          (None, 64)                0         \n",
      "_________________________________________________________________\n",
      "dense_2 (Dense)              (None, 128)               8320      \n",
      "_________________________________________________________________\n",
      "dropout_2 (Dropout)          (None, 128)               0         \n",
      "_________________________________________________________________\n",
      "dense_3 (Dense)              (None, 10)                1290      \n",
      "=================================================================\n",
      "Total params: 51,118\n",
      "Trainable params: 51,076\n",
      "Non-trainable params: 42\n",
      "_________________________________________________________________\n"
     ]
    }
   ],
   "source": [
    "#Architecture = Conv2d,pool,conv2d,d,pool,conv2d,bn,pool,conv2d,bn,pool,conv2d,pool\n",
    "model_5l = Sequential()\n",
    "# first layer\n",
    "model_5l.add(Conv2D(64, kernel_size=(2, 2),activation='relu',input_shape=input_shape))\n",
    "model_5l.add(MaxPooling2D(pool_size=(1, 1))) \n",
    "# second layer\n",
    "model_5l.add(Conv2D(64, kernel_size=(2, 2), activation='relu'))\n",
    "model_5l.add(Dropout(0.25))\n",
    "model_5l.add(MaxPooling2D(pool_size=(2, 2))) \n",
    "# third layer\n",
    "model_5l.add(Conv2D(32, kernel_size=(3, 3), activation='relu'))\n",
    "model_5l.add(BatchNormalization(axis=1))\n",
    "model_5l.add(MaxPooling2D(pool_size=(1, 1)))\n",
    "# fourth layer\n",
    "model_5l.add(Conv2D(32, kernel_size=(2, 2), activation='relu'))\n",
    "model_5l.add(BatchNormalization(axis=1))\n",
    "model_5l.add(MaxPooling2D(pool_size=(2, 2))) \n",
    "# fifth layer\n",
    "model_5l.add(Conv2D(16, kernel_size=(2, 2), activation='relu'))\n",
    "model_5l.add(MaxPooling2D(pool_size=(2, 2))) \n",
    "# flattening,dropout\n",
    "model_5l.add(Flatten())\n",
    "model_5l.add(Dense(128, activation='relu'))\n",
    "model_5l.add(Dropout(0.5))\n",
    "# softmax\n",
    "model_5l.add(Dense(num_classes, activation='softmax'))\n",
    "model_5l.summary()"
   ]
  },
  {
   "cell_type": "code",
   "execution_count": 10,
   "metadata": {
    "colab": {
     "base_uri": "https://localhost:8080/"
    },
    "id": "LIzj8bnNAVnC",
    "outputId": "5b1bb35f-779f-433c-e776-6e4cfd69b22f"
   },
   "outputs": [
    {
     "name": "stdout",
     "output_type": "stream",
     "text": [
      "Epoch 1/15\n",
      "469/469 [==============================] - 5s 11ms/step - loss: 0.4308 - accuracy: 0.8625 - val_loss: 0.1241 - val_accuracy: 0.9687\n",
      "Epoch 2/15\n",
      "469/469 [==============================] - 5s 11ms/step - loss: 0.1072 - accuracy: 0.9684 - val_loss: 0.0548 - val_accuracy: 0.9838\n",
      "Epoch 3/15\n",
      "469/469 [==============================] - 5s 11ms/step - loss: 0.0763 - accuracy: 0.9771 - val_loss: 0.0410 - val_accuracy: 0.9868\n",
      "Epoch 4/15\n",
      "469/469 [==============================] - 5s 11ms/step - loss: 0.0623 - accuracy: 0.9813 - val_loss: 0.0479 - val_accuracy: 0.9847\n",
      "Epoch 5/15\n",
      "469/469 [==============================] - 5s 11ms/step - loss: 0.0537 - accuracy: 0.9845 - val_loss: 0.0351 - val_accuracy: 0.9884\n",
      "Epoch 6/15\n",
      "469/469 [==============================] - 5s 11ms/step - loss: 0.0483 - accuracy: 0.9857 - val_loss: 0.0262 - val_accuracy: 0.9908\n",
      "Epoch 7/15\n",
      "469/469 [==============================] - 5s 11ms/step - loss: 0.0427 - accuracy: 0.9871 - val_loss: 0.0288 - val_accuracy: 0.9909\n",
      "Epoch 8/15\n",
      "469/469 [==============================] - 5s 11ms/step - loss: 0.0396 - accuracy: 0.9873 - val_loss: 0.0419 - val_accuracy: 0.9869\n",
      "Epoch 9/15\n",
      "469/469 [==============================] - 5s 11ms/step - loss: 0.0376 - accuracy: 0.9887 - val_loss: 0.0277 - val_accuracy: 0.9903\n",
      "Epoch 10/15\n",
      "469/469 [==============================] - 5s 11ms/step - loss: 0.0330 - accuracy: 0.9900 - val_loss: 0.0273 - val_accuracy: 0.9916\n",
      "Epoch 11/15\n",
      "469/469 [==============================] - 5s 11ms/step - loss: 0.0323 - accuracy: 0.9904 - val_loss: 0.0230 - val_accuracy: 0.9914\n",
      "Epoch 12/15\n",
      "469/469 [==============================] - 5s 11ms/step - loss: 0.0303 - accuracy: 0.9909 - val_loss: 0.0234 - val_accuracy: 0.9928\n",
      "Epoch 13/15\n",
      "469/469 [==============================] - 5s 11ms/step - loss: 0.0280 - accuracy: 0.9912 - val_loss: 0.0280 - val_accuracy: 0.9909\n",
      "Epoch 14/15\n",
      "469/469 [==============================] - 5s 11ms/step - loss: 0.0272 - accuracy: 0.9919 - val_loss: 0.0255 - val_accuracy: 0.9917\n",
      "Epoch 15/15\n",
      "469/469 [==============================] - 5s 11ms/step - loss: 0.0235 - accuracy: 0.9923 - val_loss: 0.0265 - val_accuracy: 0.9920\n"
     ]
    }
   ],
   "source": [
    "model_5l.compile(loss=keras.losses.categorical_crossentropy,optimizer=keras.optimizers.Adam(),metrics=['accuracy'])\n",
    "history=model_5l.fit(X_train, Y_train,batch_size=batch_size,epochs=epochs,verbose=1,validation_data=(X_test, Y_test))"
   ]
  },
  {
   "cell_type": "code",
   "execution_count": 11,
   "metadata": {
    "colab": {
     "base_uri": "https://localhost:8080/",
     "height": 329
    },
    "id": "G6PT6ZVCAVkx",
    "outputId": "2e324c79-be09-4c1d-8635-332a5b574eeb"
   },
   "outputs": [
    {
     "name": "stdout",
     "output_type": "stream",
     "text": [
      "Test score: 0.026484984904527664\n",
      "Test accuracy: 0.9919999837875366\n"
     ]
    },
    {
     "data": {
      "image/png": "[encoded data removed]",
      "text/plain": [
       "<Figure size 432x288 with 1 Axes>"
      ]
     },
     "metadata": {
      "needs_background": "light",
      "tags": []
     },
     "output_type": "display_data"
    }
   ],
   "source": [
    "score = model_5l.evaluate(X_test, Y_test, verbose=0) \n",
    "print('Test score:', score[0]) \n",
    "print('Test accuracy:', score[1])\n",
    "\n",
    "\n",
    "fig,ax = plt.subplots(1,1)\n",
    "ax.set_title('EpochsVS Loss')\n",
    "ax.set_xlabel('epoch') ; ax.set_ylabel('Categorical Crossentropy Loss')\n",
    "\n",
    "# list of epoch numbers\n",
    "x = list(range(1,epochs+1))\n",
    "\n",
    "\n",
    "vy = history.history['val_loss']\n",
    "ty = history.history['loss']\n",
    "plt_dynamic(x, vy, ty, ax)"
   ]
  },
  {
   "cell_type": "markdown",
   "metadata": {
    "id": "qT1toiaSAVid"
   },
   "source": [
    "## 7 layer CNN"
   ]
  },
  {
   "cell_type": "code",
   "execution_count": 12,
   "metadata": {
    "colab": {
     "base_uri": "https://localhost:8080/"
    },
    "id": "YqBk_945AVew",
    "outputId": "473e7a8c-b8e2-4243-9591-3b0f4181b534"
   },
   "outputs": [
    {
     "name": "stdout",
     "output_type": "stream",
     "text": [
      "Model: \"sequential_2\"\n",
      "_________________________________________________________________\n",
      "Layer (type)                 Output Shape              Param #   \n",
      "=================================================================\n",
      "conv2d_8 (Conv2D)            (None, 24, 24, 64)        1664      \n",
      "_________________________________________________________________\n",
      "max_pooling2d_8 (MaxPooling2 (None, 24, 24, 64)        0         \n",
      "_________________________________________________________________\n",
      "conv2d_9 (Conv2D)            (None, 22, 22, 64)        36928     \n",
      "_________________________________________________________________\n",
      "batch_normalization_3 (Batch (None, 22, 22, 64)        88        \n",
      "_________________________________________________________________\n",
      "max_pooling2d_9 (MaxPooling2 (None, 11, 11, 64)        0         \n",
      "_________________________________________________________________\n",
      "conv2d_10 (Conv2D)           (None, 9, 9, 32)          18464     \n",
      "_________________________________________________________________\n",
      "dropout_3 (Dropout)          (None, 9, 9, 32)          0         \n",
      "_________________________________________________________________\n",
      "max_pooling2d_10 (MaxPooling (None, 9, 9, 32)          0         \n",
      "_________________________________________________________________\n",
      "conv2d_11 (Conv2D)           (None, 7, 7, 32)          9248      \n",
      "_________________________________________________________________\n",
      "dropout_4 (Dropout)          (None, 7, 7, 32)          0         \n",
      "_________________________________________________________________\n",
      "max_pooling2d_11 (MaxPooling (None, 7, 7, 32)          0         \n",
      "_________________________________________________________________\n",
      "conv2d_12 (Conv2D)           (None, 6, 6, 16)          2064      \n",
      "_________________________________________________________________\n",
      "batch_normalization_4 (Batch (None, 6, 6, 16)          24        \n",
      "_________________________________________________________________\n",
      "max_pooling2d_12 (MaxPooling (None, 6, 6, 16)          0         \n",
      "_________________________________________________________________\n",
      "conv2d_13 (Conv2D)           (None, 5, 5, 16)          1040      \n",
      "_________________________________________________________________\n",
      "batch_normalization_5 (Batch (None, 5, 5, 16)          20        \n",
      "_________________________________________________________________\n",
      "max_pooling2d_13 (MaxPooling (None, 5, 5, 16)          0         \n",
      "_________________________________________________________________\n",
      "conv2d_14 (Conv2D)           (None, 3, 3, 8)           1160      \n",
      "_________________________________________________________________\n",
      "max_pooling2d_14 (MaxPooling (None, 3, 3, 8)           0         \n",
      "_________________________________________________________________\n",
      "flatten_2 (Flatten)          (None, 72)                0         \n",
      "_________________________________________________________________\n",
      "dense_4 (Dense)              (None, 128)               9344      \n",
      "_________________________________________________________________\n",
      "dropout_5 (Dropout)          (None, 128)               0         \n",
      "_________________________________________________________________\n",
      "dense_5 (Dense)              (None, 10)                1290      \n",
      "=================================================================\n",
      "Total params: 81,334\n",
      "Trainable params: 81,268\n",
      "Non-trainable params: 66\n",
      "_________________________________________________________________\n"
     ]
    }
   ],
   "source": [
    "#Architecture=conv2d,pool,conv2d,bn,pool,conv2d,d,pool,conv2d,d,pool,conv2d,bn,pool,conv2d,bn,pool,conv2d,pool\n",
    "model_7l = Sequential()\n",
    "# first layer\n",
    "model_7l.add(Conv2D(64, kernel_size=(5, 5),activation='relu',input_shape=input_shape))\n",
    "model_7l.add(MaxPooling2D(pool_size=(1, 1))) \n",
    "# second layer\n",
    "model_7l.add(Conv2D(64, kernel_size=(3, 3), activation='relu'))\n",
    "model_7l.add(BatchNormalization(axis=1))\n",
    "model_7l.add(MaxPooling2D(pool_size=(2, 2))) \n",
    "# third layer\n",
    "model_7l.add(Conv2D(32, kernel_size=(3, 3), activation='relu'))\n",
    "model_7l.add(Dropout(0.5))\n",
    "model_7l.add(MaxPooling2D(pool_size=(1, 1)))\n",
    "# fourth layer\n",
    "model_7l.add(Conv2D(32, kernel_size=(3, 3), activation='relu'))\n",
    "model_7l.add(Dropout(0.25))\n",
    "model_7l.add(MaxPooling2D(pool_size=(1, 1))) \n",
    "# fifth layer\n",
    "model_7l.add(Conv2D(16, kernel_size=(2, 2), activation='relu'))\n",
    "model_7l.add(BatchNormalization(axis=1))\n",
    "model_7l.add(MaxPooling2D(pool_size=(1, 1))) \n",
    "# sixth layer\n",
    "model_7l.add(Conv2D(16, kernel_size=(2, 2), activation='relu'))\n",
    "model_7l.add(BatchNormalization(axis=1))\n",
    "model_7l.add(MaxPooling2D(pool_size=(1, 1))) \n",
    "# seventh layer \n",
    "model_7l.add(Conv2D(8, kernel_size=(3, 3), activation='relu'))\n",
    "model_7l.add(MaxPooling2D(pool_size=(1, 1))) \n",
    "# flattening,dropout\n",
    "model_7l.add(Flatten())\n",
    "model_7l.add(Dense(128, activation='relu'))\n",
    "model_7l.add(Dropout(0.5))\n",
    "# softmax\n",
    "model_7l.add(Dense(num_classes, activation='softmax'))\n",
    "model_7l.summary()"
   ]
  },
  {
   "cell_type": "code",
   "execution_count": 13,
   "metadata": {
    "colab": {
     "base_uri": "https://localhost:8080/"
    },
    "id": "gKe9-fatAVb7",
    "outputId": "8a95cbf3-1923-4e1b-affe-b2b59c41cf97"
   },
   "outputs": [
    {
     "name": "stdout",
     "output_type": "stream",
     "text": [
      "Epoch 1/15\n",
      "469/469 [==============================] - 6s 12ms/step - loss: 0.5877 - accuracy: 0.8027 - val_loss: 0.2421 - val_accuracy: 0.9279\n",
      "Epoch 2/15\n",
      "469/469 [==============================] - 5s 12ms/step - loss: 0.1203 - accuracy: 0.9651 - val_loss: 0.0486 - val_accuracy: 0.9842\n",
      "Epoch 3/15\n",
      "469/469 [==============================] - 5s 12ms/step - loss: 0.0888 - accuracy: 0.9741 - val_loss: 0.0422 - val_accuracy: 0.9865\n",
      "Epoch 4/15\n",
      "469/469 [==============================] - 6s 12ms/step - loss: 0.0748 - accuracy: 0.9788 - val_loss: 0.0421 - val_accuracy: 0.9865\n",
      "Epoch 5/15\n",
      "469/469 [==============================] - 5s 12ms/step - loss: 0.0676 - accuracy: 0.9810 - val_loss: 0.0366 - val_accuracy: 0.9893\n",
      "Epoch 6/15\n",
      "469/469 [==============================] - 6s 12ms/step - loss: 0.0589 - accuracy: 0.9826 - val_loss: 0.0383 - val_accuracy: 0.9898\n",
      "Epoch 7/15\n",
      "469/469 [==============================] - 5s 12ms/step - loss: 0.0583 - accuracy: 0.9834 - val_loss: 0.0329 - val_accuracy: 0.9905\n",
      "Epoch 8/15\n",
      "469/469 [==============================] - 5s 12ms/step - loss: 0.0532 - accuracy: 0.9855 - val_loss: 0.0305 - val_accuracy: 0.9916\n",
      "Epoch 9/15\n",
      "469/469 [==============================] - 5s 12ms/step - loss: 0.0496 - accuracy: 0.9857 - val_loss: 0.0373 - val_accuracy: 0.9885\n",
      "Epoch 10/15\n",
      "469/469 [==============================] - 6s 12ms/step - loss: 0.0451 - accuracy: 0.9868 - val_loss: 0.0259 - val_accuracy: 0.9929\n",
      "Epoch 11/15\n",
      "469/469 [==============================] - 5s 12ms/step - loss: 0.0434 - accuracy: 0.9869 - val_loss: 0.0582 - val_accuracy: 0.9828\n",
      "Epoch 12/15\n",
      "469/469 [==============================] - 5s 12ms/step - loss: 0.0416 - accuracy: 0.9886 - val_loss: 0.0394 - val_accuracy: 0.9895\n",
      "Epoch 13/15\n",
      "469/469 [==============================] - 5s 12ms/step - loss: 0.0386 - accuracy: 0.9889 - val_loss: 0.0296 - val_accuracy: 0.9921\n",
      "Epoch 14/15\n",
      "469/469 [==============================] - 5s 12ms/step - loss: 0.0374 - accuracy: 0.9891 - val_loss: 0.0272 - val_accuracy: 0.9923\n",
      "Epoch 15/15\n",
      "469/469 [==============================] - 5s 12ms/step - loss: 0.0372 - accuracy: 0.9891 - val_loss: 0.0276 - val_accuracy: 0.9927\n"
     ]
    }
   ],
   "source": [
    "model_7l.compile(loss=keras.losses.categorical_crossentropy,optimizer=keras.optimizers.Adam(),metrics=['accuracy'])\n",
    "history=model_7l.fit(X_train, Y_train,batch_size=batch_size,epochs=epochs,verbose=1,validation_data=(X_test, Y_test))"
   ]
  },
  {
   "cell_type": "code",
   "execution_count": 14,
   "metadata": {
    "colab": {
     "base_uri": "https://localhost:8080/",
     "height": 329
    },
    "id": "xZ_pd264AVZY",
    "outputId": "e11c1fd8-0e62-4b2f-9377-20f0662008f8"
   },
   "outputs": [
    {
     "name": "stdout",
     "output_type": "stream",
     "text": [
      "Test score: 0.027606463059782982\n",
      "Test accuracy: 0.9926999807357788\n"
     ]
    },
    {
     "data": {
      "image/png": "[encoded data removed]",
      "text/plain": [
       "<Figure size 432x288 with 1 Axes>"
      ]
     },
     "metadata": {
      "needs_background": "light",
      "tags": []
     },
     "output_type": "display_data"
    }
   ],
   "source": [
    "score = model_7l.evaluate(X_test, Y_test, verbose=0) \n",
    "print('Test score:', score[0]) \n",
    "print('Test accuracy:', score[1])\n",
    "\n",
    "\n",
    "fig,ax = plt.subplots(1,1)\n",
    "ax.set_title('EpochsVS Loss')\n",
    "ax.set_xlabel('epoch') ; ax.set_ylabel('Categorical Crossentropy Loss')\n",
    "\n",
    "# list of epoch numbers\n",
    "x = list(range(1,epochs+1))\n",
    "\n",
    "\n",
    "vy = history.history['val_loss']\n",
    "ty = history.history['loss']\n",
    "plt_dynamic(x, vy, ty, ax)"
   ]
  },
  {
   "cell_type": "code",
   "execution_count": 16,
   "metadata": {
    "colab": {
     "base_uri": "https://localhost:8080/"
    },
    "id": "8ZrJ621uAVQg",
    "outputId": "c69ba5cb-8d7d-46eb-c0a1-345de2df859f"
   },
   "outputs": [
    {
     "name": "stdout",
     "output_type": "stream",
     "text": [
      "+--------------+------------+\n",
      "| No. of layer | Accuracy % |\n",
      "+--------------+------------+\n",
      "|      3       |   99.00    |\n",
      "|      5       |   99.19    |\n",
      "|      7       |   99.26    |\n",
      "+--------------+------------+\n"
     ]
    }
   ],
   "source": [
    "from prettytable import PrettyTable    \n",
    "x = PrettyTable()\n",
    "x.field_names = [\"No. of layer\", \"Accuracy %\"]\n",
    "\n",
    "x.add_row([\"3\",\"99.00\"])\n",
    "x.add_row([\"5\",\"99.19\"])\n",
    "x.add_row([\"7\",\"99.26\"])\n",
    "print(x)"
   ]
  },
  {
   "cell_type": "markdown",
   "metadata": {
    "id": "zGa9r7itAVOV"
   },
   "source": [
    "# Summary"
   ]
  },
  {
   "cell_type": "markdown",
   "metadata": {
    "id": "1rvSn9JQps2P"
   },
   "source": [
    "1 created 3,5,7 layered cnn using batch normalization   \n",
    "2 observed that as layer increases accuracy also increased"
   ]
  },
  {
   "cell_type": "code",
   "execution_count": null,
   "metadata": {
    "id": "Okz898bMqK99"
   },
   "outputs": [],
   "source": []
  }
 ],
 "metadata": {
  "accelerator": "GPU",
  "colab": {
   "collapsed_sections": [],
   "name": "15_CNN_MNIST.ipynb",
   "provenance": []
  },
  "kernelspec": {
   "display_name": "Python 3",
   "language": "python",
   "name": "python3"
  },
  "language_info": {
   "codemirror_mode": {
    "name": "ipython",
    "version": 3
   },
   "file_extension": ".py",
   "mimetype": "text/x-python",
   "name": "python",
   "nbconvert_exporter": "python",
   "pygments_lexer": "ipython3",
   "version": "3.6.5"
  },
  "latex_envs": {
   "LaTeX_envs_menu_present": true,
   "autoclose": false,
   "autocomplete": true,
   "bibliofile": "biblio.bib",
   "cite_by": "apalike",
   "current_citInitial": 1,
   "eqLabelWithNumbers": true,
   "eqNumInitial": 1,
   "hotkeys": {
    "equation": "Ctrl-E",
    "itemize": "Ctrl-I"
   },
   "labels_anchors": false,
   "latex_user_defs": false,
   "report_style_numbering": false,
   "user_envs_cfg": false
  },
  "toc": {
   "base_numbering": 1,
   "nav_menu": {},
   "number_sections": false,
   "sideBar": true,
   "skip_h1_title": false,
   "title_cell": "Table of Contents",
   "title_sidebar": "Contents",
   "toc_cell": false,
   "toc_position": {},
   "toc_section_display": true,
   "toc_window_display": true
  }
 },
 "nbformat": 4,
 "nbformat_minor": 1
}
